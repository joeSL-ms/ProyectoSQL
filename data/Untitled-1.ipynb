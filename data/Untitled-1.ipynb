{
 "cells": [
  {
   "cell_type": "code",
   "execution_count": 1,
   "metadata": {},
   "outputs": [],
   "source": [
    "#pip install pandas\n",
    "#%pip install mysql-connector-python\n",
    "import mysql.connector as conn"
   ]
  },
  {
   "cell_type": "code",
   "execution_count": 2,
   "metadata": {},
   "outputs": [],
   "source": [
    "import pandas as pd\n",
    "act='actor.csv'\n",
    "df_act=pd.read_csv(act)"
   ]
  },
  {
   "cell_type": "code",
   "execution_count": 3,
   "metadata": {},
   "outputs": [
    {
     "data": {
      "text/plain": [
       "actor_id       0\n",
       "first_name     0\n",
       "last_name      0\n",
       "last_update    0\n",
       "dtype: int64"
      ]
     },
     "execution_count": 3,
     "metadata": {},
     "output_type": "execute_result"
    }
   ],
   "source": [
    "#Para cada archivo primero hare un anaisis de nulos y vere que se puede limpiar.\n",
    "#Tambien por otro lado vere los tipos de columnas para mi base de datos\n",
    "df_act.isna().sum()"
   ]
  },
  {
   "cell_type": "code",
   "execution_count": 5,
   "metadata": {},
   "outputs": [
    {
     "data": {
      "text/html": [
       "<div>\n",
       "<style scoped>\n",
       "    .dataframe tbody tr th:only-of-type {\n",
       "        vertical-align: middle;\n",
       "    }\n",
       "\n",
       "    .dataframe tbody tr th {\n",
       "        vertical-align: top;\n",
       "    }\n",
       "\n",
       "    .dataframe thead th {\n",
       "        text-align: right;\n",
       "    }\n",
       "</style>\n",
       "<table border=\"1\" class=\"dataframe\">\n",
       "  <thead>\n",
       "    <tr style=\"text-align: right;\">\n",
       "      <th></th>\n",
       "      <th>actor_id</th>\n",
       "      <th>first_name</th>\n",
       "      <th>last_name</th>\n",
       "      <th>last_update</th>\n",
       "    </tr>\n",
       "  </thead>\n",
       "  <tbody>\n",
       "    <tr>\n",
       "      <th>0</th>\n",
       "      <td>1</td>\n",
       "      <td>PENELOPE</td>\n",
       "      <td>GUINESS</td>\n",
       "      <td>2006-02-15 04:34:33</td>\n",
       "    </tr>\n",
       "    <tr>\n",
       "      <th>1</th>\n",
       "      <td>2</td>\n",
       "      <td>NICK</td>\n",
       "      <td>WAHLBERG</td>\n",
       "      <td>2006-02-15 04:34:33</td>\n",
       "    </tr>\n",
       "    <tr>\n",
       "      <th>2</th>\n",
       "      <td>3</td>\n",
       "      <td>ED</td>\n",
       "      <td>CHASE</td>\n",
       "      <td>2006-02-15 04:34:33</td>\n",
       "    </tr>\n",
       "    <tr>\n",
       "      <th>3</th>\n",
       "      <td>4</td>\n",
       "      <td>JENNIFER</td>\n",
       "      <td>DAVIS</td>\n",
       "      <td>2006-02-15 04:34:33</td>\n",
       "    </tr>\n",
       "    <tr>\n",
       "      <th>4</th>\n",
       "      <td>5</td>\n",
       "      <td>JOHNNY</td>\n",
       "      <td>LOLLOBRIGIDA</td>\n",
       "      <td>2006-02-15 04:34:33</td>\n",
       "    </tr>\n",
       "    <tr>\n",
       "      <th>...</th>\n",
       "      <td>...</td>\n",
       "      <td>...</td>\n",
       "      <td>...</td>\n",
       "      <td>...</td>\n",
       "    </tr>\n",
       "    <tr>\n",
       "      <th>196</th>\n",
       "      <td>197</td>\n",
       "      <td>REESE</td>\n",
       "      <td>WEST</td>\n",
       "      <td>2006-02-15 04:34:33</td>\n",
       "    </tr>\n",
       "    <tr>\n",
       "      <th>197</th>\n",
       "      <td>198</td>\n",
       "      <td>MARY</td>\n",
       "      <td>KEITEL</td>\n",
       "      <td>2006-02-15 04:34:33</td>\n",
       "    </tr>\n",
       "    <tr>\n",
       "      <th>198</th>\n",
       "      <td>199</td>\n",
       "      <td>JULIA</td>\n",
       "      <td>FAWCETT</td>\n",
       "      <td>2006-02-15 04:34:33</td>\n",
       "    </tr>\n",
       "    <tr>\n",
       "      <th>199</th>\n",
       "      <td>200</td>\n",
       "      <td>THORA</td>\n",
       "      <td>TEMPLE</td>\n",
       "      <td>2006-02-15 04:34:33</td>\n",
       "    </tr>\n",
       "    <tr>\n",
       "      <th>200</th>\n",
       "      <td>201</td>\n",
       "      <td>unknow</td>\n",
       "      <td>unknow</td>\n",
       "      <td>2006-02-15 04:46:27</td>\n",
       "    </tr>\n",
       "  </tbody>\n",
       "</table>\n",
       "<p>201 rows × 4 columns</p>\n",
       "</div>"
      ],
      "text/plain": [
       "     actor_id first_name     last_name          last_update\n",
       "0           1   PENELOPE       GUINESS  2006-02-15 04:34:33\n",
       "1           2       NICK      WAHLBERG  2006-02-15 04:34:33\n",
       "2           3         ED         CHASE  2006-02-15 04:34:33\n",
       "3           4   JENNIFER         DAVIS  2006-02-15 04:34:33\n",
       "4           5     JOHNNY  LOLLOBRIGIDA  2006-02-15 04:34:33\n",
       "..        ...        ...           ...                  ...\n",
       "196       197      REESE          WEST  2006-02-15 04:34:33\n",
       "197       198       MARY        KEITEL  2006-02-15 04:34:33\n",
       "198       199      JULIA       FAWCETT  2006-02-15 04:34:33\n",
       "199       200      THORA        TEMPLE  2006-02-15 04:34:33\n",
       "200       201     unknow        unknow  2006-02-15 04:46:27\n",
       "\n",
       "[201 rows x 4 columns]"
      ]
     },
     "execution_count": 5,
     "metadata": {},
     "output_type": "execute_result"
    }
   ],
   "source": [
    "df_act.reset_index(drop=True)"
   ]
  },
  {
   "cell_type": "code",
   "execution_count": 6,
   "metadata": {},
   "outputs": [],
   "source": [
    "cate='category.csv'\n",
    "df_cat=pd.read_csv(cate)"
   ]
  },
  {
   "cell_type": "code",
   "execution_count": 7,
   "metadata": {},
   "outputs": [],
   "source": [
    "#df_cat.loc[len(df_cat)] = [ 17,'unknow', '2006-02-15 04:46:27']"
   ]
  },
  {
   "cell_type": "code",
   "execution_count": 8,
   "metadata": {},
   "outputs": [
    {
     "data": {
      "text/html": [
       "<div>\n",
       "<style scoped>\n",
       "    .dataframe tbody tr th:only-of-type {\n",
       "        vertical-align: middle;\n",
       "    }\n",
       "\n",
       "    .dataframe tbody tr th {\n",
       "        vertical-align: top;\n",
       "    }\n",
       "\n",
       "    .dataframe thead th {\n",
       "        text-align: right;\n",
       "    }\n",
       "</style>\n",
       "<table border=\"1\" class=\"dataframe\">\n",
       "  <thead>\n",
       "    <tr style=\"text-align: right;\">\n",
       "      <th></th>\n",
       "      <th>category_id</th>\n",
       "      <th>name</th>\n",
       "      <th>last_update</th>\n",
       "    </tr>\n",
       "  </thead>\n",
       "  <tbody>\n",
       "    <tr>\n",
       "      <th>0</th>\n",
       "      <td>1</td>\n",
       "      <td>Action</td>\n",
       "      <td>2006-02-15 04:46:27</td>\n",
       "    </tr>\n",
       "    <tr>\n",
       "      <th>1</th>\n",
       "      <td>2</td>\n",
       "      <td>Animation</td>\n",
       "      <td>2006-02-15 04:46:27</td>\n",
       "    </tr>\n",
       "    <tr>\n",
       "      <th>2</th>\n",
       "      <td>3</td>\n",
       "      <td>Children</td>\n",
       "      <td>2006-02-15 04:46:27</td>\n",
       "    </tr>\n",
       "    <tr>\n",
       "      <th>3</th>\n",
       "      <td>4</td>\n",
       "      <td>Classics</td>\n",
       "      <td>2006-02-15 04:46:27</td>\n",
       "    </tr>\n",
       "    <tr>\n",
       "      <th>4</th>\n",
       "      <td>5</td>\n",
       "      <td>Comedy</td>\n",
       "      <td>2006-02-15 04:46:27</td>\n",
       "    </tr>\n",
       "    <tr>\n",
       "      <th>5</th>\n",
       "      <td>6</td>\n",
       "      <td>Documentary</td>\n",
       "      <td>2006-02-15 04:46:27</td>\n",
       "    </tr>\n",
       "    <tr>\n",
       "      <th>6</th>\n",
       "      <td>7</td>\n",
       "      <td>Drama</td>\n",
       "      <td>2006-02-15 04:46:27</td>\n",
       "    </tr>\n",
       "    <tr>\n",
       "      <th>7</th>\n",
       "      <td>8</td>\n",
       "      <td>Family</td>\n",
       "      <td>2006-02-15 04:46:27</td>\n",
       "    </tr>\n",
       "    <tr>\n",
       "      <th>8</th>\n",
       "      <td>9</td>\n",
       "      <td>Foreign</td>\n",
       "      <td>2006-02-15 04:46:27</td>\n",
       "    </tr>\n",
       "    <tr>\n",
       "      <th>9</th>\n",
       "      <td>10</td>\n",
       "      <td>Games</td>\n",
       "      <td>2006-02-15 04:46:27</td>\n",
       "    </tr>\n",
       "    <tr>\n",
       "      <th>10</th>\n",
       "      <td>11</td>\n",
       "      <td>Horror</td>\n",
       "      <td>2006-02-15 04:46:27</td>\n",
       "    </tr>\n",
       "    <tr>\n",
       "      <th>11</th>\n",
       "      <td>12</td>\n",
       "      <td>Music</td>\n",
       "      <td>2006-02-15 04:46:27</td>\n",
       "    </tr>\n",
       "    <tr>\n",
       "      <th>12</th>\n",
       "      <td>13</td>\n",
       "      <td>New</td>\n",
       "      <td>2006-02-15 04:46:27</td>\n",
       "    </tr>\n",
       "    <tr>\n",
       "      <th>13</th>\n",
       "      <td>14</td>\n",
       "      <td>Sci-Fi</td>\n",
       "      <td>2006-02-15 04:46:27</td>\n",
       "    </tr>\n",
       "    <tr>\n",
       "      <th>14</th>\n",
       "      <td>15</td>\n",
       "      <td>Sports</td>\n",
       "      <td>2006-02-15 04:46:27</td>\n",
       "    </tr>\n",
       "    <tr>\n",
       "      <th>15</th>\n",
       "      <td>16</td>\n",
       "      <td>Travel</td>\n",
       "      <td>2006-02-15 04:46:27</td>\n",
       "    </tr>\n",
       "    <tr>\n",
       "      <th>16</th>\n",
       "      <td>17</td>\n",
       "      <td>unknow</td>\n",
       "      <td>2006-02-15 04:46:27</td>\n",
       "    </tr>\n",
       "  </tbody>\n",
       "</table>\n",
       "</div>"
      ],
      "text/plain": [
       "    category_id         name          last_update\n",
       "0             1       Action  2006-02-15 04:46:27\n",
       "1             2    Animation  2006-02-15 04:46:27\n",
       "2             3     Children  2006-02-15 04:46:27\n",
       "3             4     Classics  2006-02-15 04:46:27\n",
       "4             5       Comedy  2006-02-15 04:46:27\n",
       "5             6  Documentary  2006-02-15 04:46:27\n",
       "6             7        Drama  2006-02-15 04:46:27\n",
       "7             8       Family  2006-02-15 04:46:27\n",
       "8             9      Foreign  2006-02-15 04:46:27\n",
       "9            10        Games  2006-02-15 04:46:27\n",
       "10           11       Horror  2006-02-15 04:46:27\n",
       "11           12        Music  2006-02-15 04:46:27\n",
       "12           13          New  2006-02-15 04:46:27\n",
       "13           14       Sci-Fi  2006-02-15 04:46:27\n",
       "14           15       Sports  2006-02-15 04:46:27\n",
       "15           16       Travel  2006-02-15 04:46:27\n",
       "16           17       unknow  2006-02-15 04:46:27"
      ]
     },
     "execution_count": 8,
     "metadata": {},
     "output_type": "execute_result"
    }
   ],
   "source": [
    "df_cat.shape\n",
    "df_cat.reset_index(drop=True)"
   ]
  },
  {
   "cell_type": "code",
   "execution_count": 9,
   "metadata": {},
   "outputs": [],
   "source": [
    "film='film.csv'\n",
    "df_film=pd.read_csv(film)"
   ]
  },
  {
   "cell_type": "code",
   "execution_count": 10,
   "metadata": {},
   "outputs": [
    {
     "name": "stdout",
     "output_type": "stream",
     "text": [
      "<class 'pandas.core.frame.DataFrame'>\n",
      "RangeIndex: 1000 entries, 0 to 999\n",
      "Data columns (total 13 columns):\n",
      " #   Column                Non-Null Count  Dtype  \n",
      "---  ------                --------------  -----  \n",
      " 0   film_id               1000 non-null   int64  \n",
      " 1   title                 1000 non-null   object \n",
      " 2   description           1000 non-null   object \n",
      " 3   release_year          1000 non-null   int64  \n",
      " 4   language_id           1000 non-null   int64  \n",
      " 5   original_language_id  0 non-null      float64\n",
      " 6   rental_duration       1000 non-null   int64  \n",
      " 7   rental_rate           1000 non-null   float64\n",
      " 8   length                1000 non-null   int64  \n",
      " 9   replacement_cost      1000 non-null   float64\n",
      " 10  rating                1000 non-null   object \n",
      " 11  special_features      1000 non-null   object \n",
      " 12  last_update           1000 non-null   object \n",
      "dtypes: float64(3), int64(5), object(5)\n",
      "memory usage: 101.7+ KB\n"
     ]
    },
    {
     "data": {
      "text/plain": [
       "(film_id                    0\n",
       " title                      0\n",
       " description                0\n",
       " release_year               0\n",
       " language_id                0\n",
       " original_language_id    1000\n",
       " rental_duration            0\n",
       " rental_rate                0\n",
       " length                     0\n",
       " replacement_cost           0\n",
       " rating                     0\n",
       " special_features           0\n",
       " last_update                0\n",
       " dtype: int64,\n",
       " None)"
      ]
     },
     "execution_count": 10,
     "metadata": {},
     "output_type": "execute_result"
    }
   ],
   "source": [
    "df_film.isna().sum(),df_film.info()"
   ]
  },
  {
   "cell_type": "code",
   "execution_count": 11,
   "metadata": {},
   "outputs": [
    {
     "data": {
      "text/plain": [
       "(1000, 13)"
      ]
     },
     "execution_count": 11,
     "metadata": {},
     "output_type": "execute_result"
    }
   ],
   "source": [
    "df_film.shape"
   ]
  },
  {
   "cell_type": "code",
   "execution_count": 12,
   "metadata": {},
   "outputs": [
    {
     "data": {
      "text/plain": [
       "0     NaN\n",
       "1     NaN\n",
       "2     NaN\n",
       "3     NaN\n",
       "4     NaN\n",
       "       ..\n",
       "995   NaN\n",
       "996   NaN\n",
       "997   NaN\n",
       "998   NaN\n",
       "999   NaN\n",
       "Name: original_language_id, Length: 1000, dtype: float64"
      ]
     },
     "execution_count": 12,
     "metadata": {},
     "output_type": "execute_result"
    }
   ],
   "source": [
    "df_film.original_language_id"
   ]
  },
  {
   "cell_type": "code",
   "execution_count": 13,
   "metadata": {},
   "outputs": [],
   "source": [
    "#En mi df para mi cliente no le sirve esta columna, ya que el nno se dedica a vender pelis en idioma original\n",
    "df_film.drop(columns='original_language_id',inplace=True)"
   ]
  },
  {
   "cell_type": "code",
   "execution_count": 14,
   "metadata": {},
   "outputs": [
    {
     "data": {
      "text/html": [
       "<div>\n",
       "<style scoped>\n",
       "    .dataframe tbody tr th:only-of-type {\n",
       "        vertical-align: middle;\n",
       "    }\n",
       "\n",
       "    .dataframe tbody tr th {\n",
       "        vertical-align: top;\n",
       "    }\n",
       "\n",
       "    .dataframe thead th {\n",
       "        text-align: right;\n",
       "    }\n",
       "</style>\n",
       "<table border=\"1\" class=\"dataframe\">\n",
       "  <thead>\n",
       "    <tr style=\"text-align: right;\">\n",
       "      <th></th>\n",
       "      <th>film_id</th>\n",
       "      <th>title</th>\n",
       "      <th>description</th>\n",
       "      <th>release_year</th>\n",
       "      <th>language_id</th>\n",
       "      <th>rental_duration</th>\n",
       "      <th>rental_rate</th>\n",
       "      <th>length</th>\n",
       "      <th>replacement_cost</th>\n",
       "      <th>rating</th>\n",
       "      <th>special_features</th>\n",
       "      <th>last_update</th>\n",
       "    </tr>\n",
       "  </thead>\n",
       "  <tbody>\n",
       "    <tr>\n",
       "      <th>0</th>\n",
       "      <td>1</td>\n",
       "      <td>ACADEMY DINOSAUR</td>\n",
       "      <td>A Epic Drama of a Feminist And a Mad Scientist...</td>\n",
       "      <td>2006</td>\n",
       "      <td>1</td>\n",
       "      <td>6</td>\n",
       "      <td>0.99</td>\n",
       "      <td>86</td>\n",
       "      <td>20.99</td>\n",
       "      <td>PG</td>\n",
       "      <td>Deleted Scenes,Behind the Scenes</td>\n",
       "      <td>2006-02-15 05:03:42</td>\n",
       "    </tr>\n",
       "    <tr>\n",
       "      <th>1</th>\n",
       "      <td>2</td>\n",
       "      <td>ACE GOLDFINGER</td>\n",
       "      <td>A Astounding Epistle of a Database Administrat...</td>\n",
       "      <td>2006</td>\n",
       "      <td>1</td>\n",
       "      <td>3</td>\n",
       "      <td>4.99</td>\n",
       "      <td>48</td>\n",
       "      <td>12.99</td>\n",
       "      <td>G</td>\n",
       "      <td>Trailers,Deleted Scenes</td>\n",
       "      <td>2006-02-15 05:03:42</td>\n",
       "    </tr>\n",
       "    <tr>\n",
       "      <th>2</th>\n",
       "      <td>3</td>\n",
       "      <td>ADAPTATION HOLES</td>\n",
       "      <td>A Astounding Reflection of a Lumberjack And a ...</td>\n",
       "      <td>2006</td>\n",
       "      <td>1</td>\n",
       "      <td>7</td>\n",
       "      <td>2.99</td>\n",
       "      <td>50</td>\n",
       "      <td>18.99</td>\n",
       "      <td>NC-17</td>\n",
       "      <td>Trailers,Deleted Scenes</td>\n",
       "      <td>2006-02-15 05:03:42</td>\n",
       "    </tr>\n",
       "    <tr>\n",
       "      <th>3</th>\n",
       "      <td>4</td>\n",
       "      <td>AFFAIR PREJUDICE</td>\n",
       "      <td>A Fanciful Documentary of a Frisbee And a Lumb...</td>\n",
       "      <td>2006</td>\n",
       "      <td>1</td>\n",
       "      <td>5</td>\n",
       "      <td>2.99</td>\n",
       "      <td>117</td>\n",
       "      <td>26.99</td>\n",
       "      <td>G</td>\n",
       "      <td>Commentaries,Behind the Scenes</td>\n",
       "      <td>2006-02-15 05:03:42</td>\n",
       "    </tr>\n",
       "    <tr>\n",
       "      <th>4</th>\n",
       "      <td>5</td>\n",
       "      <td>AFRICAN EGG</td>\n",
       "      <td>A Fast-Paced Documentary of a Pastry Chef And ...</td>\n",
       "      <td>2006</td>\n",
       "      <td>1</td>\n",
       "      <td>6</td>\n",
       "      <td>2.99</td>\n",
       "      <td>130</td>\n",
       "      <td>22.99</td>\n",
       "      <td>G</td>\n",
       "      <td>Deleted Scenes</td>\n",
       "      <td>2006-02-15 05:03:42</td>\n",
       "    </tr>\n",
       "    <tr>\n",
       "      <th>...</th>\n",
       "      <td>...</td>\n",
       "      <td>...</td>\n",
       "      <td>...</td>\n",
       "      <td>...</td>\n",
       "      <td>...</td>\n",
       "      <td>...</td>\n",
       "      <td>...</td>\n",
       "      <td>...</td>\n",
       "      <td>...</td>\n",
       "      <td>...</td>\n",
       "      <td>...</td>\n",
       "      <td>...</td>\n",
       "    </tr>\n",
       "    <tr>\n",
       "      <th>995</th>\n",
       "      <td>996</td>\n",
       "      <td>YOUNG LANGUAGE</td>\n",
       "      <td>A Unbelieveable Yarn of a Boat And a Database ...</td>\n",
       "      <td>2006</td>\n",
       "      <td>1</td>\n",
       "      <td>6</td>\n",
       "      <td>0.99</td>\n",
       "      <td>183</td>\n",
       "      <td>9.99</td>\n",
       "      <td>G</td>\n",
       "      <td>Trailers,Behind the Scenes</td>\n",
       "      <td>2006-02-15 05:03:42</td>\n",
       "    </tr>\n",
       "    <tr>\n",
       "      <th>996</th>\n",
       "      <td>997</td>\n",
       "      <td>YOUTH KICK</td>\n",
       "      <td>A Touching Drama of a Teacher And a Cat who mu...</td>\n",
       "      <td>2006</td>\n",
       "      <td>1</td>\n",
       "      <td>4</td>\n",
       "      <td>0.99</td>\n",
       "      <td>179</td>\n",
       "      <td>14.99</td>\n",
       "      <td>NC-17</td>\n",
       "      <td>Trailers,Behind the Scenes</td>\n",
       "      <td>2006-02-15 05:03:42</td>\n",
       "    </tr>\n",
       "    <tr>\n",
       "      <th>997</th>\n",
       "      <td>998</td>\n",
       "      <td>ZHIVAGO CORE</td>\n",
       "      <td>A Fateful Yarn of a Composer And a Man who mus...</td>\n",
       "      <td>2006</td>\n",
       "      <td>1</td>\n",
       "      <td>6</td>\n",
       "      <td>0.99</td>\n",
       "      <td>105</td>\n",
       "      <td>10.99</td>\n",
       "      <td>NC-17</td>\n",
       "      <td>Deleted Scenes</td>\n",
       "      <td>2006-02-15 05:03:42</td>\n",
       "    </tr>\n",
       "    <tr>\n",
       "      <th>998</th>\n",
       "      <td>999</td>\n",
       "      <td>ZOOLANDER FICTION</td>\n",
       "      <td>A Fateful Reflection of a Waitress And a Boat ...</td>\n",
       "      <td>2006</td>\n",
       "      <td>1</td>\n",
       "      <td>5</td>\n",
       "      <td>2.99</td>\n",
       "      <td>101</td>\n",
       "      <td>28.99</td>\n",
       "      <td>R</td>\n",
       "      <td>Trailers,Deleted Scenes</td>\n",
       "      <td>2006-02-15 05:03:42</td>\n",
       "    </tr>\n",
       "    <tr>\n",
       "      <th>999</th>\n",
       "      <td>1000</td>\n",
       "      <td>ZORRO ARK</td>\n",
       "      <td>A Intrepid Panorama of a Mad Scientist And a B...</td>\n",
       "      <td>2006</td>\n",
       "      <td>1</td>\n",
       "      <td>3</td>\n",
       "      <td>4.99</td>\n",
       "      <td>50</td>\n",
       "      <td>18.99</td>\n",
       "      <td>NC-17</td>\n",
       "      <td>Trailers,Commentaries,Behind the Scenes</td>\n",
       "      <td>2006-02-15 05:03:42</td>\n",
       "    </tr>\n",
       "  </tbody>\n",
       "</table>\n",
       "<p>1000 rows × 12 columns</p>\n",
       "</div>"
      ],
      "text/plain": [
       "     film_id              title   \n",
       "0          1   ACADEMY DINOSAUR  \\\n",
       "1          2     ACE GOLDFINGER   \n",
       "2          3   ADAPTATION HOLES   \n",
       "3          4   AFFAIR PREJUDICE   \n",
       "4          5        AFRICAN EGG   \n",
       "..       ...                ...   \n",
       "995      996     YOUNG LANGUAGE   \n",
       "996      997         YOUTH KICK   \n",
       "997      998       ZHIVAGO CORE   \n",
       "998      999  ZOOLANDER FICTION   \n",
       "999     1000          ZORRO ARK   \n",
       "\n",
       "                                           description  release_year   \n",
       "0    A Epic Drama of a Feminist And a Mad Scientist...          2006  \\\n",
       "1    A Astounding Epistle of a Database Administrat...          2006   \n",
       "2    A Astounding Reflection of a Lumberjack And a ...          2006   \n",
       "3    A Fanciful Documentary of a Frisbee And a Lumb...          2006   \n",
       "4    A Fast-Paced Documentary of a Pastry Chef And ...          2006   \n",
       "..                                                 ...           ...   \n",
       "995  A Unbelieveable Yarn of a Boat And a Database ...          2006   \n",
       "996  A Touching Drama of a Teacher And a Cat who mu...          2006   \n",
       "997  A Fateful Yarn of a Composer And a Man who mus...          2006   \n",
       "998  A Fateful Reflection of a Waitress And a Boat ...          2006   \n",
       "999  A Intrepid Panorama of a Mad Scientist And a B...          2006   \n",
       "\n",
       "     language_id  rental_duration  rental_rate  length  replacement_cost   \n",
       "0              1                6         0.99      86             20.99  \\\n",
       "1              1                3         4.99      48             12.99   \n",
       "2              1                7         2.99      50             18.99   \n",
       "3              1                5         2.99     117             26.99   \n",
       "4              1                6         2.99     130             22.99   \n",
       "..           ...              ...          ...     ...               ...   \n",
       "995            1                6         0.99     183              9.99   \n",
       "996            1                4         0.99     179             14.99   \n",
       "997            1                6         0.99     105             10.99   \n",
       "998            1                5         2.99     101             28.99   \n",
       "999            1                3         4.99      50             18.99   \n",
       "\n",
       "    rating                         special_features          last_update  \n",
       "0       PG         Deleted Scenes,Behind the Scenes  2006-02-15 05:03:42  \n",
       "1        G                  Trailers,Deleted Scenes  2006-02-15 05:03:42  \n",
       "2    NC-17                  Trailers,Deleted Scenes  2006-02-15 05:03:42  \n",
       "3        G           Commentaries,Behind the Scenes  2006-02-15 05:03:42  \n",
       "4        G                           Deleted Scenes  2006-02-15 05:03:42  \n",
       "..     ...                                      ...                  ...  \n",
       "995      G               Trailers,Behind the Scenes  2006-02-15 05:03:42  \n",
       "996  NC-17               Trailers,Behind the Scenes  2006-02-15 05:03:42  \n",
       "997  NC-17                           Deleted Scenes  2006-02-15 05:03:42  \n",
       "998      R                  Trailers,Deleted Scenes  2006-02-15 05:03:42  \n",
       "999  NC-17  Trailers,Commentaries,Behind the Scenes  2006-02-15 05:03:42  \n",
       "\n",
       "[1000 rows x 12 columns]"
      ]
     },
     "execution_count": 14,
     "metadata": {},
     "output_type": "execute_result"
    }
   ],
   "source": [
    "df_film"
   ]
  },
  {
   "cell_type": "code",
   "execution_count": 15,
   "metadata": {},
   "outputs": [],
   "source": [
    "invent='inventory.csv'\n",
    "df_invent=pd.read_csv(invent)"
   ]
  },
  {
   "cell_type": "code",
   "execution_count": 16,
   "metadata": {},
   "outputs": [
    {
     "data": {
      "text/plain": [
       "(1000, 4)"
      ]
     },
     "execution_count": 16,
     "metadata": {},
     "output_type": "execute_result"
    }
   ],
   "source": [
    "df_invent.shape"
   ]
  },
  {
   "cell_type": "code",
   "execution_count": 17,
   "metadata": {},
   "outputs": [
    {
     "data": {
      "text/plain": [
       "inventory_id    0\n",
       "film_id         0\n",
       "store_id        0\n",
       "last_update     0\n",
       "dtype: int64"
      ]
     },
     "execution_count": 17,
     "metadata": {},
     "output_type": "execute_result"
    }
   ],
   "source": [
    "df_invent.isna().sum()"
   ]
  },
  {
   "cell_type": "code",
   "execution_count": 18,
   "metadata": {},
   "outputs": [
    {
     "data": {
      "text/html": [
       "<div>\n",
       "<style scoped>\n",
       "    .dataframe tbody tr th:only-of-type {\n",
       "        vertical-align: middle;\n",
       "    }\n",
       "\n",
       "    .dataframe tbody tr th {\n",
       "        vertical-align: top;\n",
       "    }\n",
       "\n",
       "    .dataframe thead th {\n",
       "        text-align: right;\n",
       "    }\n",
       "</style>\n",
       "<table border=\"1\" class=\"dataframe\">\n",
       "  <thead>\n",
       "    <tr style=\"text-align: right;\">\n",
       "      <th></th>\n",
       "      <th>inventory_id</th>\n",
       "      <th>film_id</th>\n",
       "      <th>store_id</th>\n",
       "      <th>last_update</th>\n",
       "    </tr>\n",
       "  </thead>\n",
       "  <tbody>\n",
       "    <tr>\n",
       "      <th>0</th>\n",
       "      <td>1</td>\n",
       "      <td>1</td>\n",
       "      <td>1</td>\n",
       "      <td>2006-02-15 05:09:17</td>\n",
       "    </tr>\n",
       "    <tr>\n",
       "      <th>1</th>\n",
       "      <td>2</td>\n",
       "      <td>1</td>\n",
       "      <td>1</td>\n",
       "      <td>2006-02-15 05:09:17</td>\n",
       "    </tr>\n",
       "    <tr>\n",
       "      <th>2</th>\n",
       "      <td>3</td>\n",
       "      <td>1</td>\n",
       "      <td>1</td>\n",
       "      <td>2006-02-15 05:09:17</td>\n",
       "    </tr>\n",
       "    <tr>\n",
       "      <th>3</th>\n",
       "      <td>4</td>\n",
       "      <td>1</td>\n",
       "      <td>1</td>\n",
       "      <td>2006-02-15 05:09:17</td>\n",
       "    </tr>\n",
       "    <tr>\n",
       "      <th>4</th>\n",
       "      <td>5</td>\n",
       "      <td>1</td>\n",
       "      <td>2</td>\n",
       "      <td>2006-02-15 05:09:17</td>\n",
       "    </tr>\n",
       "    <tr>\n",
       "      <th>5</th>\n",
       "      <td>6</td>\n",
       "      <td>1</td>\n",
       "      <td>2</td>\n",
       "      <td>2006-02-15 05:09:17</td>\n",
       "    </tr>\n",
       "    <tr>\n",
       "      <th>6</th>\n",
       "      <td>7</td>\n",
       "      <td>1</td>\n",
       "      <td>2</td>\n",
       "      <td>2006-02-15 05:09:17</td>\n",
       "    </tr>\n",
       "    <tr>\n",
       "      <th>7</th>\n",
       "      <td>8</td>\n",
       "      <td>1</td>\n",
       "      <td>2</td>\n",
       "      <td>2006-02-15 05:09:17</td>\n",
       "    </tr>\n",
       "    <tr>\n",
       "      <th>8</th>\n",
       "      <td>9</td>\n",
       "      <td>2</td>\n",
       "      <td>2</td>\n",
       "      <td>2006-02-15 05:09:17</td>\n",
       "    </tr>\n",
       "    <tr>\n",
       "      <th>9</th>\n",
       "      <td>10</td>\n",
       "      <td>2</td>\n",
       "      <td>2</td>\n",
       "      <td>2006-02-15 05:09:17</td>\n",
       "    </tr>\n",
       "  </tbody>\n",
       "</table>\n",
       "</div>"
      ],
      "text/plain": [
       "   inventory_id  film_id  store_id          last_update\n",
       "0             1        1         1  2006-02-15 05:09:17\n",
       "1             2        1         1  2006-02-15 05:09:17\n",
       "2             3        1         1  2006-02-15 05:09:17\n",
       "3             4        1         1  2006-02-15 05:09:17\n",
       "4             5        1         2  2006-02-15 05:09:17\n",
       "5             6        1         2  2006-02-15 05:09:17\n",
       "6             7        1         2  2006-02-15 05:09:17\n",
       "7             8        1         2  2006-02-15 05:09:17\n",
       "8             9        2         2  2006-02-15 05:09:17\n",
       "9            10        2         2  2006-02-15 05:09:17"
      ]
     },
     "execution_count": 18,
     "metadata": {},
     "output_type": "execute_result"
    }
   ],
   "source": [
    "df_invent.head(10)"
   ]
  },
  {
   "cell_type": "code",
   "execution_count": 19,
   "metadata": {},
   "outputs": [
    {
     "data": {
      "text/plain": [
       "1000"
      ]
     },
     "execution_count": 19,
     "metadata": {},
     "output_type": "execute_result"
    }
   ],
   "source": [
    "#confirmo que mis datos son todos numericos, como true es 1 y false 0, se confirma que 1000, son numeros.\n",
    "df_invent.dtypes\n",
    "df_invent.store_id.apply(lambda x: True if x!=str else False).sum()"
   ]
  },
  {
   "cell_type": "code",
   "execution_count": 20,
   "metadata": {},
   "outputs": [
    {
     "data": {
      "text/plain": [
       "1000"
      ]
     },
     "execution_count": 20,
     "metadata": {},
     "output_type": "execute_result"
    }
   ],
   "source": [
    "df_invent.film_id.apply(lambda x: True if x!=str else False).sum()"
   ]
  },
  {
   "cell_type": "code",
   "execution_count": 21,
   "metadata": {},
   "outputs": [],
   "source": [
    "lang='language.csv'\n",
    "df_lang=pd.read_csv(lang)"
   ]
  },
  {
   "cell_type": "code",
   "execution_count": 22,
   "metadata": {},
   "outputs": [
    {
     "data": {
      "text/plain": [
       "language_id    0\n",
       "name           0\n",
       "last_update    0\n",
       "dtype: int64"
      ]
     },
     "execution_count": 22,
     "metadata": {},
     "output_type": "execute_result"
    }
   ],
   "source": [
    "df_lang.isna().sum()"
   ]
  },
  {
   "cell_type": "code",
   "execution_count": 23,
   "metadata": {},
   "outputs": [
    {
     "data": {
      "text/plain": [
       "language_id     int64\n",
       "name           object\n",
       "last_update    object\n",
       "dtype: object"
      ]
     },
     "execution_count": 23,
     "metadata": {},
     "output_type": "execute_result"
    }
   ],
   "source": [
    "df_lang.dtypes"
   ]
  },
  {
   "cell_type": "code",
   "execution_count": 24,
   "metadata": {},
   "outputs": [
    {
     "data": {
      "text/plain": [
       "((6, 3),\n",
       "    language_id      name          last_update\n",
       " 0            1   English  2006-02-15 05:02:19\n",
       " 1            2   Italian  2006-02-15 05:02:19\n",
       " 2            3  Japanese  2006-02-15 05:02:19\n",
       " 3            4  Mandarin  2006-02-15 05:02:19\n",
       " 4            5    French  2006-02-15 05:02:19\n",
       " 5            6    German  2006-02-15 05:02:19)"
      ]
     },
     "execution_count": 24,
     "metadata": {},
     "output_type": "execute_result"
    }
   ],
   "source": [
    "df_lang.shape,df_lang"
   ]
  },
  {
   "cell_type": "code",
   "execution_count": 25,
   "metadata": {},
   "outputs": [],
   "source": [
    "HDD='old_HDD.csv'\n",
    "df_HDD=pd.read_csv(HDD)"
   ]
  },
  {
   "cell_type": "code",
   "execution_count": 26,
   "metadata": {},
   "outputs": [
    {
     "data": {
      "text/plain": [
       "first_name      0\n",
       "last_name       0\n",
       "title           0\n",
       "release_year    0\n",
       "category_id     0\n",
       "dtype: int64"
      ]
     },
     "execution_count": 26,
     "metadata": {},
     "output_type": "execute_result"
    }
   ],
   "source": [
    "df_HDD.isna().sum()"
   ]
  },
  {
   "cell_type": "code",
   "execution_count": 27,
   "metadata": {},
   "outputs": [
    {
     "data": {
      "text/plain": [
       "(first_name      object\n",
       " last_name       object\n",
       " title           object\n",
       " release_year     int64\n",
       " category_id      int64\n",
       " dtype: object,\n",
       " (1000, 5))"
      ]
     },
     "execution_count": 27,
     "metadata": {},
     "output_type": "execute_result"
    }
   ],
   "source": [
    "df_HDD.dtypes,df_HDD.shape"
   ]
  },
  {
   "cell_type": "code",
   "execution_count": 28,
   "metadata": {},
   "outputs": [
    {
     "data": {
      "text/plain": [
       "1000"
      ]
     },
     "execution_count": 28,
     "metadata": {},
     "output_type": "execute_result"
    }
   ],
   "source": [
    "#quiero confirmar de que año son mis peliculas, y a la vez quiero saber si todas son del mismo año. El resultado es que todas son del mismo año\n",
    "df_HDD.release_year.apply(lambda x: True if x >2005 and x<2007 else False).sum()"
   ]
  },
  {
   "cell_type": "code",
   "execution_count": 29,
   "metadata": {},
   "outputs": [
    {
     "data": {
      "text/html": [
       "<div>\n",
       "<style scoped>\n",
       "    .dataframe tbody tr th:only-of-type {\n",
       "        vertical-align: middle;\n",
       "    }\n",
       "\n",
       "    .dataframe tbody tr th {\n",
       "        vertical-align: top;\n",
       "    }\n",
       "\n",
       "    .dataframe thead th {\n",
       "        text-align: right;\n",
       "    }\n",
       "</style>\n",
       "<table border=\"1\" class=\"dataframe\">\n",
       "  <thead>\n",
       "    <tr style=\"text-align: right;\">\n",
       "      <th></th>\n",
       "      <th>first_name</th>\n",
       "      <th>last_name</th>\n",
       "      <th>title</th>\n",
       "      <th>release_year</th>\n",
       "      <th>category_id</th>\n",
       "    </tr>\n",
       "  </thead>\n",
       "  <tbody>\n",
       "    <tr>\n",
       "      <th>0</th>\n",
       "      <td>PENELOPE</td>\n",
       "      <td>GUINESS</td>\n",
       "      <td>ACADEMY DINOSAUR</td>\n",
       "      <td>2006</td>\n",
       "      <td>6</td>\n",
       "    </tr>\n",
       "    <tr>\n",
       "      <th>1</th>\n",
       "      <td>PENELOPE</td>\n",
       "      <td>GUINESS</td>\n",
       "      <td>ANACONDA CONFESSIONS</td>\n",
       "      <td>2006</td>\n",
       "      <td>2</td>\n",
       "    </tr>\n",
       "    <tr>\n",
       "      <th>2</th>\n",
       "      <td>PENELOPE</td>\n",
       "      <td>GUINESS</td>\n",
       "      <td>ANGELS LIFE</td>\n",
       "      <td>2006</td>\n",
       "      <td>13</td>\n",
       "    </tr>\n",
       "    <tr>\n",
       "      <th>3</th>\n",
       "      <td>PENELOPE</td>\n",
       "      <td>GUINESS</td>\n",
       "      <td>BULWORTH COMMANDMENTS</td>\n",
       "      <td>2006</td>\n",
       "      <td>10</td>\n",
       "    </tr>\n",
       "    <tr>\n",
       "      <th>4</th>\n",
       "      <td>PENELOPE</td>\n",
       "      <td>GUINESS</td>\n",
       "      <td>CHEAPER CLYDE</td>\n",
       "      <td>2006</td>\n",
       "      <td>14</td>\n",
       "    </tr>\n",
       "    <tr>\n",
       "      <th>...</th>\n",
       "      <td>...</td>\n",
       "      <td>...</td>\n",
       "      <td>...</td>\n",
       "      <td>...</td>\n",
       "      <td>...</td>\n",
       "    </tr>\n",
       "    <tr>\n",
       "      <th>995</th>\n",
       "      <td>GOLDIE</td>\n",
       "      <td>BRODY</td>\n",
       "      <td>COMANCHEROS ENEMY</td>\n",
       "      <td>2006</td>\n",
       "      <td>3</td>\n",
       "    </tr>\n",
       "    <tr>\n",
       "      <th>996</th>\n",
       "      <td>GOLDIE</td>\n",
       "      <td>BRODY</td>\n",
       "      <td>DAISY MENAGERIE</td>\n",
       "      <td>2006</td>\n",
       "      <td>14</td>\n",
       "    </tr>\n",
       "    <tr>\n",
       "      <th>997</th>\n",
       "      <td>GOLDIE</td>\n",
       "      <td>BRODY</td>\n",
       "      <td>DESERT POSEIDON</td>\n",
       "      <td>2006</td>\n",
       "      <td>11</td>\n",
       "    </tr>\n",
       "    <tr>\n",
       "      <th>998</th>\n",
       "      <td>GOLDIE</td>\n",
       "      <td>BRODY</td>\n",
       "      <td>EVERYONE CRAFT</td>\n",
       "      <td>2006</td>\n",
       "      <td>9</td>\n",
       "    </tr>\n",
       "    <tr>\n",
       "      <th>999</th>\n",
       "      <td>GOLDIE</td>\n",
       "      <td>BRODY</td>\n",
       "      <td>EXORCIST STING</td>\n",
       "      <td>2006</td>\n",
       "      <td>15</td>\n",
       "    </tr>\n",
       "  </tbody>\n",
       "</table>\n",
       "<p>1000 rows × 5 columns</p>\n",
       "</div>"
      ],
      "text/plain": [
       "    first_name last_name                  title  release_year  category_id\n",
       "0     PENELOPE   GUINESS       ACADEMY DINOSAUR          2006            6\n",
       "1     PENELOPE   GUINESS   ANACONDA CONFESSIONS          2006            2\n",
       "2     PENELOPE   GUINESS            ANGELS LIFE          2006           13\n",
       "3     PENELOPE   GUINESS  BULWORTH COMMANDMENTS          2006           10\n",
       "4     PENELOPE   GUINESS          CHEAPER CLYDE          2006           14\n",
       "..         ...       ...                    ...           ...          ...\n",
       "995     GOLDIE     BRODY      COMANCHEROS ENEMY          2006            3\n",
       "996     GOLDIE     BRODY        DAISY MENAGERIE          2006           14\n",
       "997     GOLDIE     BRODY        DESERT POSEIDON          2006           11\n",
       "998     GOLDIE     BRODY         EVERYONE CRAFT          2006            9\n",
       "999     GOLDIE     BRODY         EXORCIST STING          2006           15\n",
       "\n",
       "[1000 rows x 5 columns]"
      ]
     },
     "execution_count": 29,
     "metadata": {},
     "output_type": "execute_result"
    }
   ],
   "source": [
    "df_HDD"
   ]
  },
  {
   "cell_type": "code",
   "execution_count": 30,
   "metadata": {},
   "outputs": [],
   "source": [
    "rent='rental.csv'\n",
    "df_rent=pd.read_csv(rent)"
   ]
  },
  {
   "cell_type": "code",
   "execution_count": 31,
   "metadata": {},
   "outputs": [
    {
     "data": {
      "text/plain": [
       "rental_id       0\n",
       "rental_date     0\n",
       "inventory_id    0\n",
       "customer_id     0\n",
       "return_date     0\n",
       "staff_id        0\n",
       "last_update     0\n",
       "dtype: int64"
      ]
     },
     "execution_count": 31,
     "metadata": {},
     "output_type": "execute_result"
    }
   ],
   "source": [
    "df_rent.isna().sum()"
   ]
  },
  {
   "cell_type": "code",
   "execution_count": 32,
   "metadata": {},
   "outputs": [
    {
     "data": {
      "text/plain": [
       "(rental_id        int64\n",
       " rental_date     object\n",
       " inventory_id     int64\n",
       " customer_id      int64\n",
       " return_date     object\n",
       " staff_id         int64\n",
       " last_update     object\n",
       " dtype: object,\n",
       " (1000, 7))"
      ]
     },
     "execution_count": 32,
     "metadata": {},
     "output_type": "execute_result"
    }
   ],
   "source": [
    "df_rent.dtypes,df_rent.shape"
   ]
  },
  {
   "cell_type": "code",
   "execution_count": 33,
   "metadata": {},
   "outputs": [
    {
     "data": {
      "text/html": [
       "<div>\n",
       "<style scoped>\n",
       "    .dataframe tbody tr th:only-of-type {\n",
       "        vertical-align: middle;\n",
       "    }\n",
       "\n",
       "    .dataframe tbody tr th {\n",
       "        vertical-align: top;\n",
       "    }\n",
       "\n",
       "    .dataframe thead th {\n",
       "        text-align: right;\n",
       "    }\n",
       "</style>\n",
       "<table border=\"1\" class=\"dataframe\">\n",
       "  <thead>\n",
       "    <tr style=\"text-align: right;\">\n",
       "      <th></th>\n",
       "      <th>rental_id</th>\n",
       "      <th>inventory_id</th>\n",
       "      <th>customer_id</th>\n",
       "      <th>staff_id</th>\n",
       "    </tr>\n",
       "  </thead>\n",
       "  <tbody>\n",
       "    <tr>\n",
       "      <th>0</th>\n",
       "      <td>1</td>\n",
       "      <td>367</td>\n",
       "      <td>130</td>\n",
       "      <td>1</td>\n",
       "    </tr>\n",
       "    <tr>\n",
       "      <th>1</th>\n",
       "      <td>2</td>\n",
       "      <td>1525</td>\n",
       "      <td>459</td>\n",
       "      <td>1</td>\n",
       "    </tr>\n",
       "    <tr>\n",
       "      <th>2</th>\n",
       "      <td>3</td>\n",
       "      <td>1711</td>\n",
       "      <td>408</td>\n",
       "      <td>1</td>\n",
       "    </tr>\n",
       "    <tr>\n",
       "      <th>3</th>\n",
       "      <td>4</td>\n",
       "      <td>2452</td>\n",
       "      <td>333</td>\n",
       "      <td>2</td>\n",
       "    </tr>\n",
       "    <tr>\n",
       "      <th>4</th>\n",
       "      <td>5</td>\n",
       "      <td>2079</td>\n",
       "      <td>222</td>\n",
       "      <td>1</td>\n",
       "    </tr>\n",
       "    <tr>\n",
       "      <th>...</th>\n",
       "      <td>...</td>\n",
       "      <td>...</td>\n",
       "      <td>...</td>\n",
       "      <td>...</td>\n",
       "    </tr>\n",
       "    <tr>\n",
       "      <th>995</th>\n",
       "      <td>997</td>\n",
       "      <td>4243</td>\n",
       "      <td>216</td>\n",
       "      <td>2</td>\n",
       "    </tr>\n",
       "    <tr>\n",
       "      <th>996</th>\n",
       "      <td>998</td>\n",
       "      <td>3395</td>\n",
       "      <td>389</td>\n",
       "      <td>1</td>\n",
       "    </tr>\n",
       "    <tr>\n",
       "      <th>997</th>\n",
       "      <td>999</td>\n",
       "      <td>4433</td>\n",
       "      <td>413</td>\n",
       "      <td>2</td>\n",
       "    </tr>\n",
       "    <tr>\n",
       "      <th>998</th>\n",
       "      <td>1000</td>\n",
       "      <td>1774</td>\n",
       "      <td>332</td>\n",
       "      <td>2</td>\n",
       "    </tr>\n",
       "    <tr>\n",
       "      <th>999</th>\n",
       "      <td>1001</td>\n",
       "      <td>1498</td>\n",
       "      <td>64</td>\n",
       "      <td>2</td>\n",
       "    </tr>\n",
       "  </tbody>\n",
       "</table>\n",
       "<p>1000 rows × 4 columns</p>\n",
       "</div>"
      ],
      "text/plain": [
       "     rental_id  inventory_id  customer_id  staff_id\n",
       "0            1           367          130         1\n",
       "1            2          1525          459         1\n",
       "2            3          1711          408         1\n",
       "3            4          2452          333         2\n",
       "4            5          2079          222         1\n",
       "..         ...           ...          ...       ...\n",
       "995        997          4243          216         2\n",
       "996        998          3395          389         1\n",
       "997        999          4433          413         2\n",
       "998       1000          1774          332         2\n",
       "999       1001          1498           64         2\n",
       "\n",
       "[1000 rows x 4 columns]"
      ]
     },
     "execution_count": 33,
     "metadata": {},
     "output_type": "execute_result"
    }
   ],
   "source": [
    "#hago un df mas claro dejando todos los numeros fuera, ya que las fechas no me proporcionaban mucha info y dificultaba la lectura. Y para que mi cliente no se vuelva loco con tantas columnas.\n",
    "df_boni=df_rent.drop(columns=['rental_date','return_date','last_update'])\n",
    "df_boni"
   ]
  },
  {
   "cell_type": "code",
   "execution_count": 34,
   "metadata": {},
   "outputs": [
    {
     "data": {
      "text/plain": [
       "(Index(['actor_id', 'first_name', 'last_name', 'last_update'], dtype='object'),\n",
       " Index(['category_id', 'name', 'last_update'], dtype='object'),\n",
       " Index(['film_id', 'title', 'description', 'release_year', 'language_id',\n",
       "        'rental_duration', 'rental_rate', 'length', 'replacement_cost',\n",
       "        'rating', 'special_features', 'last_update'],\n",
       "       dtype='object'),\n",
       " Index(['first_name', 'last_name', 'title', 'release_year', 'category_id'], dtype='object'),\n",
       " Index(['inventory_id', 'film_id', 'store_id', 'last_update'], dtype='object'),\n",
       " Index(['language_id', 'name', 'last_update'], dtype='object'),\n",
       " Index(['rental_id', 'rental_date', 'inventory_id', 'customer_id',\n",
       "        'return_date', 'staff_id', 'last_update'],\n",
       "       dtype='object'))"
      ]
     },
     "execution_count": 34,
     "metadata": {},
     "output_type": "execute_result"
    }
   ],
   "source": [
    "#Preparo una lectura de columnas para poder visualisar cual seria la manera mas coherente de poder realizar mi databse.\n",
    "df_act.columns,df_cat.columns,df_film.columns,df_HDD.columns,df_invent.columns,df_lang.columns,df_rent.columns"
   ]
  },
  {
   "cell_type": "code",
   "execution_count": 35,
   "metadata": {},
   "outputs": [],
   "source": [
    "df_act.drop(columns='last_update',inplace=True)\n",
    "df_cat.drop(columns='last_update',inplace=True)\n",
    "df_film.drop(columns='last_update',inplace=True)\n",
    "df_lang.drop(columns='last_update',inplace=True)\n",
    "df_invent.drop(columns='last_update',inplace=True)"
   ]
  },
  {
   "cell_type": "code",
   "execution_count": 36,
   "metadata": {},
   "outputs": [],
   "source": [
    "tengo=list(df_invent.film_id.unique())\n",
    "pelis=[ x for x in df_film.film_id if x in tengo]"
   ]
  },
  {
   "cell_type": "code",
   "execution_count": 37,
   "metadata": {},
   "outputs": [],
   "source": [
    "#creo un codigo que hace la misma funcioin con un merge, creando tablas intermedia para ordenar los datos.\n",
    "#se me habia olvidado que existia el merge\n",
    "\n",
    "pu=df_act['pru']=df_act['first_name']+' '+df_act['last_name']\n",
    "dic={}\n",
    "count=0\n",
    "for i in pu:\n",
    "    count+=1\n",
    "    dic[i]=count\n",
    "dic\n",
    "df_act.drop(columns='pru',inplace=True)"
   ]
  },
  {
   "cell_type": "code",
   "execution_count": 38,
   "metadata": {},
   "outputs": [],
   "source": [
    "#COLSULTA SOBRE IDS\n",
    "pa=df_HDD['col']=df_HDD['first_name']+' '+df_HDD['last_name']\n",
    "perr=pd.DataFrame({'actor_id':[dic[i] for i in pa]})\n",
    "df_HDD.drop(columns='col',inplace=True)\n",
    "ids=df_HDD.join(perr)\n",
    "ids=ids.merge(df_film[['film_id','title']],on=(['title']),how='left')\n",
    "ids.drop(columns='release_year',inplace=True)\n"
   ]
  },
  {
   "cell_type": "code",
   "execution_count": 39,
   "metadata": {},
   "outputs": [
    {
     "data": {
      "text/html": [
       "<div>\n",
       "<style scoped>\n",
       "    .dataframe tbody tr th:only-of-type {\n",
       "        vertical-align: middle;\n",
       "    }\n",
       "\n",
       "    .dataframe tbody tr th {\n",
       "        vertical-align: top;\n",
       "    }\n",
       "\n",
       "    .dataframe thead th {\n",
       "        text-align: right;\n",
       "    }\n",
       "</style>\n",
       "<table border=\"1\" class=\"dataframe\">\n",
       "  <thead>\n",
       "    <tr style=\"text-align: right;\">\n",
       "      <th></th>\n",
       "      <th>actor_id</th>\n",
       "      <th>first_name</th>\n",
       "      <th>last_name</th>\n",
       "      <th>pru</th>\n",
       "    </tr>\n",
       "  </thead>\n",
       "  <tbody>\n",
       "    <tr>\n",
       "      <th>100</th>\n",
       "      <td>101</td>\n",
       "      <td>SUSAN</td>\n",
       "      <td>DAVIS</td>\n",
       "      <td>SUSAN DAVIS</td>\n",
       "    </tr>\n",
       "    <tr>\n",
       "      <th>109</th>\n",
       "      <td>110</td>\n",
       "      <td>SUSAN</td>\n",
       "      <td>DAVIS</td>\n",
       "      <td>SUSAN DAVIS</td>\n",
       "    </tr>\n",
       "  </tbody>\n",
       "</table>\n",
       "</div>"
      ],
      "text/plain": [
       "     actor_id first_name last_name          pru\n",
       "100       101      SUSAN     DAVIS  SUSAN DAVIS\n",
       "109       110      SUSAN     DAVIS  SUSAN DAVIS"
      ]
     },
     "execution_count": 39,
     "metadata": {},
     "output_type": "execute_result"
    }
   ],
   "source": [
    "#me planteo nombres duplicados, y hay uno, pero me acuerdo que mi cliente me dijo que eran unas gemelas.Y decido dejarlos con los mismos datos.\n",
    "pu=df_act['pru']=df_act['first_name']+' '+df_act['last_name']\n",
    "pu[pu.duplicated()==True]\n",
    "df_act[df_act['pru']=='SUSAN DAVIS']"
   ]
  },
  {
   "cell_type": "code",
   "execution_count": 40,
   "metadata": {},
   "outputs": [],
   "source": [
    "df_act.drop(columns='pru',inplace=True)\n",
    "df_invent\n",
    "#dato que me parece curioso es que en la tabla de invent de todos 1000 titulos que tiene, dispone de 223.\n",
    "df_invent.film_id.unique().shape\n",
    "#la realidad es que solo son 207\n",
    "num=list(df_invent.film_id.unique())"
   ]
  },
  {
   "cell_type": "code",
   "execution_count": 41,
   "metadata": {},
   "outputs": [
    {
     "data": {
      "text/plain": [
       "inventory_id    1000\n",
       "dtype: int64"
      ]
     },
     "execution_count": 41,
     "metadata": {},
     "output_type": "execute_result"
    }
   ],
   "source": [
    "df_invent.groupby('film_id').agg({'inventory_id':'count'}).sum()\n",
    "#compruebo que el total de peliculas por lo menos cumples los requisitos minimos de 1000 en stock"
   ]
  },
  {
   "cell_type": "code",
   "execution_count": 42,
   "metadata": {},
   "outputs": [
    {
     "data": {
      "text/html": [
       "<div>\n",
       "<style scoped>\n",
       "    .dataframe tbody tr th:only-of-type {\n",
       "        vertical-align: middle;\n",
       "    }\n",
       "\n",
       "    .dataframe tbody tr th {\n",
       "        vertical-align: top;\n",
       "    }\n",
       "\n",
       "    .dataframe thead th {\n",
       "        text-align: right;\n",
       "    }\n",
       "</style>\n",
       "<table border=\"1\" class=\"dataframe\">\n",
       "  <thead>\n",
       "    <tr style=\"text-align: right;\">\n",
       "      <th></th>\n",
       "      <th>film_id</th>\n",
       "      <th>title</th>\n",
       "      <th>replacement_cost</th>\n",
       "    </tr>\n",
       "  </thead>\n",
       "  <tbody>\n",
       "    <tr>\n",
       "      <th>0</th>\n",
       "      <td>1</td>\n",
       "      <td>ACADEMY DINOSAUR</td>\n",
       "      <td>20.99</td>\n",
       "    </tr>\n",
       "    <tr>\n",
       "      <th>1</th>\n",
       "      <td>2</td>\n",
       "      <td>ACE GOLDFINGER</td>\n",
       "      <td>12.99</td>\n",
       "    </tr>\n",
       "    <tr>\n",
       "      <th>2</th>\n",
       "      <td>3</td>\n",
       "      <td>ADAPTATION HOLES</td>\n",
       "      <td>18.99</td>\n",
       "    </tr>\n",
       "    <tr>\n",
       "      <th>3</th>\n",
       "      <td>4</td>\n",
       "      <td>AFFAIR PREJUDICE</td>\n",
       "      <td>26.99</td>\n",
       "    </tr>\n",
       "    <tr>\n",
       "      <th>4</th>\n",
       "      <td>5</td>\n",
       "      <td>AFRICAN EGG</td>\n",
       "      <td>22.99</td>\n",
       "    </tr>\n",
       "    <tr>\n",
       "      <th>5</th>\n",
       "      <td>6</td>\n",
       "      <td>AGENT TRUMAN</td>\n",
       "      <td>17.99</td>\n",
       "    </tr>\n",
       "    <tr>\n",
       "      <th>6</th>\n",
       "      <td>7</td>\n",
       "      <td>AIRPLANE SIERRA</td>\n",
       "      <td>28.99</td>\n",
       "    </tr>\n",
       "    <tr>\n",
       "      <th>7</th>\n",
       "      <td>8</td>\n",
       "      <td>AIRPORT POLLOCK</td>\n",
       "      <td>15.99</td>\n",
       "    </tr>\n",
       "    <tr>\n",
       "      <th>8</th>\n",
       "      <td>9</td>\n",
       "      <td>ALABAMA DEVIL</td>\n",
       "      <td>21.99</td>\n",
       "    </tr>\n",
       "    <tr>\n",
       "      <th>9</th>\n",
       "      <td>10</td>\n",
       "      <td>ALADDIN CALENDAR</td>\n",
       "      <td>24.99</td>\n",
       "    </tr>\n",
       "    <tr>\n",
       "      <th>10</th>\n",
       "      <td>11</td>\n",
       "      <td>ALAMO VIDEOTAPE</td>\n",
       "      <td>16.99</td>\n",
       "    </tr>\n",
       "    <tr>\n",
       "      <th>11</th>\n",
       "      <td>12</td>\n",
       "      <td>ALASKA PHANTOM</td>\n",
       "      <td>22.99</td>\n",
       "    </tr>\n",
       "    <tr>\n",
       "      <th>12</th>\n",
       "      <td>13</td>\n",
       "      <td>ALI FOREVER</td>\n",
       "      <td>21.99</td>\n",
       "    </tr>\n",
       "    <tr>\n",
       "      <th>14</th>\n",
       "      <td>15</td>\n",
       "      <td>ALIEN CENTER</td>\n",
       "      <td>10.99</td>\n",
       "    </tr>\n",
       "    <tr>\n",
       "      <th>15</th>\n",
       "      <td>16</td>\n",
       "      <td>ALLEY EVOLUTION</td>\n",
       "      <td>23.99</td>\n",
       "    </tr>\n",
       "  </tbody>\n",
       "</table>\n",
       "</div>"
      ],
      "text/plain": [
       "    film_id             title  replacement_cost\n",
       "0         1  ACADEMY DINOSAUR             20.99\n",
       "1         2    ACE GOLDFINGER             12.99\n",
       "2         3  ADAPTATION HOLES             18.99\n",
       "3         4  AFFAIR PREJUDICE             26.99\n",
       "4         5       AFRICAN EGG             22.99\n",
       "5         6      AGENT TRUMAN             17.99\n",
       "6         7   AIRPLANE SIERRA             28.99\n",
       "7         8   AIRPORT POLLOCK             15.99\n",
       "8         9     ALABAMA DEVIL             21.99\n",
       "9        10  ALADDIN CALENDAR             24.99\n",
       "10       11   ALAMO VIDEOTAPE             16.99\n",
       "11       12    ALASKA PHANTOM             22.99\n",
       "12       13       ALI FOREVER             21.99\n",
       "14       15      ALIEN CENTER             10.99\n",
       "15       16   ALLEY EVOLUTION             23.99"
      ]
     },
     "execution_count": 42,
     "metadata": {},
     "output_type": "execute_result"
    }
   ],
   "source": [
    "#investigo un poco sobres los titulos que me ha proporcionado en base su inventario\n",
    "df_film[['film_id','title','replacement_cost']][df_film.film_id.apply(lambda x : True if x in num else False)==True].head(15)"
   ]
  },
  {
   "cell_type": "code",
   "execution_count": 43,
   "metadata": {},
   "outputs": [
    {
     "data": {
      "text/html": [
       "<div>\n",
       "<style scoped>\n",
       "    .dataframe tbody tr th:only-of-type {\n",
       "        vertical-align: middle;\n",
       "    }\n",
       "\n",
       "    .dataframe tbody tr th {\n",
       "        vertical-align: top;\n",
       "    }\n",
       "\n",
       "    .dataframe thead th {\n",
       "        text-align: right;\n",
       "    }\n",
       "</style>\n",
       "<table border=\"1\" class=\"dataframe\">\n",
       "  <thead>\n",
       "    <tr style=\"text-align: right;\">\n",
       "      <th></th>\n",
       "      <th>film_id</th>\n",
       "      <th>title</th>\n",
       "      <th>replacement_cost</th>\n",
       "    </tr>\n",
       "  </thead>\n",
       "  <tbody>\n",
       "    <tr>\n",
       "      <th>13</th>\n",
       "      <td>14</td>\n",
       "      <td>ALICE FANTASIA</td>\n",
       "      <td>23.99</td>\n",
       "    </tr>\n",
       "    <tr>\n",
       "      <th>32</th>\n",
       "      <td>33</td>\n",
       "      <td>APOLLO TEEN</td>\n",
       "      <td>15.99</td>\n",
       "    </tr>\n",
       "    <tr>\n",
       "      <th>35</th>\n",
       "      <td>36</td>\n",
       "      <td>ARGONAUTS TOWN</td>\n",
       "      <td>12.99</td>\n",
       "    </tr>\n",
       "    <tr>\n",
       "      <th>37</th>\n",
       "      <td>38</td>\n",
       "      <td>ARK RIDGEMONT</td>\n",
       "      <td>25.99</td>\n",
       "    </tr>\n",
       "    <tr>\n",
       "      <th>40</th>\n",
       "      <td>41</td>\n",
       "      <td>ARSENIC INDEPENDENCE</td>\n",
       "      <td>17.99</td>\n",
       "    </tr>\n",
       "    <tr>\n",
       "      <th>86</th>\n",
       "      <td>87</td>\n",
       "      <td>BOONDOCK BALLROOM</td>\n",
       "      <td>14.99</td>\n",
       "    </tr>\n",
       "    <tr>\n",
       "      <th>107</th>\n",
       "      <td>108</td>\n",
       "      <td>BUTCH PANTHER</td>\n",
       "      <td>19.99</td>\n",
       "    </tr>\n",
       "    <tr>\n",
       "      <th>127</th>\n",
       "      <td>128</td>\n",
       "      <td>CATCH AMISTAD</td>\n",
       "      <td>10.99</td>\n",
       "    </tr>\n",
       "    <tr>\n",
       "      <th>143</th>\n",
       "      <td>144</td>\n",
       "      <td>CHINATOWN GLADIATOR</td>\n",
       "      <td>24.99</td>\n",
       "    </tr>\n",
       "    <tr>\n",
       "      <th>147</th>\n",
       "      <td>148</td>\n",
       "      <td>CHOCOLATE DUCK</td>\n",
       "      <td>13.99</td>\n",
       "    </tr>\n",
       "    <tr>\n",
       "      <th>170</th>\n",
       "      <td>171</td>\n",
       "      <td>COMMANDMENTS EXPRESS</td>\n",
       "      <td>13.99</td>\n",
       "    </tr>\n",
       "    <tr>\n",
       "      <th>191</th>\n",
       "      <td>192</td>\n",
       "      <td>CROSSING DIVORCE</td>\n",
       "      <td>19.99</td>\n",
       "    </tr>\n",
       "    <tr>\n",
       "      <th>194</th>\n",
       "      <td>195</td>\n",
       "      <td>CROWDS TELEMARK</td>\n",
       "      <td>16.99</td>\n",
       "    </tr>\n",
       "    <tr>\n",
       "      <th>197</th>\n",
       "      <td>198</td>\n",
       "      <td>CRYSTAL BREAKING</td>\n",
       "      <td>22.99</td>\n",
       "    </tr>\n",
       "    <tr>\n",
       "      <th>216</th>\n",
       "      <td>217</td>\n",
       "      <td>DAZED PUNK</td>\n",
       "      <td>20.99</td>\n",
       "    </tr>\n",
       "  </tbody>\n",
       "</table>\n",
       "</div>"
      ],
      "text/plain": [
       "     film_id                 title  replacement_cost\n",
       "13        14        ALICE FANTASIA             23.99\n",
       "32        33           APOLLO TEEN             15.99\n",
       "35        36        ARGONAUTS TOWN             12.99\n",
       "37        38         ARK RIDGEMONT             25.99\n",
       "40        41  ARSENIC INDEPENDENCE             17.99\n",
       "86        87     BOONDOCK BALLROOM             14.99\n",
       "107      108         BUTCH PANTHER             19.99\n",
       "127      128         CATCH AMISTAD             10.99\n",
       "143      144   CHINATOWN GLADIATOR             24.99\n",
       "147      148        CHOCOLATE DUCK             13.99\n",
       "170      171  COMMANDMENTS EXPRESS             13.99\n",
       "191      192      CROSSING DIVORCE             19.99\n",
       "194      195       CROWDS TELEMARK             16.99\n",
       "197      198      CRYSTAL BREAKING             22.99\n",
       "216      217            DAZED PUNK             20.99"
      ]
     },
     "execution_count": 43,
     "metadata": {},
     "output_type": "execute_result"
    }
   ],
   "source": [
    "df_film[['film_id','title','replacement_cost']][df_film.film_id.apply(lambda x : True if x in num else False)==False].head(15)"
   ]
  },
  {
   "cell_type": "code",
   "execution_count": 44,
   "metadata": {},
   "outputs": [
    {
     "name": "stderr",
     "output_type": "stream",
     "text": [
      "C:\\Users\\sebas\\AppData\\Local\\Temp\\ipykernel_25532\\1583144377.py:13: FutureWarning: Calling int on a single element Series is deprecated and will raise a TypeError in the future. Use int(ser.iloc[0]) instead\n",
      "  int(medi_p)*df_film['film_id'].count()\n"
     ]
    },
    {
     "data": {
      "text/html": [
       "<div>\n",
       "<style scoped>\n",
       "    .dataframe tbody tr th:only-of-type {\n",
       "        vertical-align: middle;\n",
       "    }\n",
       "\n",
       "    .dataframe tbody tr th {\n",
       "        vertical-align: top;\n",
       "    }\n",
       "\n",
       "    .dataframe thead th {\n",
       "        text-align: right;\n",
       "    }\n",
       "</style>\n",
       "<table border=\"1\" class=\"dataframe\">\n",
       "  <thead>\n",
       "    <tr style=\"text-align: right;\">\n",
       "      <th></th>\n",
       "      <th>rental_id</th>\n",
       "      <th>rental_date</th>\n",
       "      <th>inventory_id</th>\n",
       "      <th>customer_id</th>\n",
       "      <th>return_date</th>\n",
       "      <th>staff_id</th>\n",
       "      <th>last_update</th>\n",
       "    </tr>\n",
       "  </thead>\n",
       "  <tbody>\n",
       "    <tr>\n",
       "      <th>0</th>\n",
       "      <td>1</td>\n",
       "      <td>2005-05-24 22:53:30</td>\n",
       "      <td>367</td>\n",
       "      <td>130</td>\n",
       "      <td>2005-05-26 22:04:30</td>\n",
       "      <td>1</td>\n",
       "      <td>2006-02-15 21:30:53</td>\n",
       "    </tr>\n",
       "    <tr>\n",
       "      <th>1</th>\n",
       "      <td>2</td>\n",
       "      <td>2005-05-24 22:54:33</td>\n",
       "      <td>1525</td>\n",
       "      <td>459</td>\n",
       "      <td>2005-05-28 19:40:33</td>\n",
       "      <td>1</td>\n",
       "      <td>2006-02-15 21:30:53</td>\n",
       "    </tr>\n",
       "    <tr>\n",
       "      <th>2</th>\n",
       "      <td>3</td>\n",
       "      <td>2005-05-24 23:03:39</td>\n",
       "      <td>1711</td>\n",
       "      <td>408</td>\n",
       "      <td>2005-06-01 22:12:39</td>\n",
       "      <td>1</td>\n",
       "      <td>2006-02-15 21:30:53</td>\n",
       "    </tr>\n",
       "    <tr>\n",
       "      <th>3</th>\n",
       "      <td>4</td>\n",
       "      <td>2005-05-24 23:04:41</td>\n",
       "      <td>2452</td>\n",
       "      <td>333</td>\n",
       "      <td>2005-06-03 01:43:41</td>\n",
       "      <td>2</td>\n",
       "      <td>2006-02-15 21:30:53</td>\n",
       "    </tr>\n",
       "    <tr>\n",
       "      <th>4</th>\n",
       "      <td>5</td>\n",
       "      <td>2005-05-24 23:05:21</td>\n",
       "      <td>2079</td>\n",
       "      <td>222</td>\n",
       "      <td>2005-06-02 04:33:21</td>\n",
       "      <td>1</td>\n",
       "      <td>2006-02-15 21:30:53</td>\n",
       "    </tr>\n",
       "    <tr>\n",
       "      <th>...</th>\n",
       "      <td>...</td>\n",
       "      <td>...</td>\n",
       "      <td>...</td>\n",
       "      <td>...</td>\n",
       "      <td>...</td>\n",
       "      <td>...</td>\n",
       "      <td>...</td>\n",
       "    </tr>\n",
       "    <tr>\n",
       "      <th>995</th>\n",
       "      <td>997</td>\n",
       "      <td>2005-05-31 00:08:25</td>\n",
       "      <td>4243</td>\n",
       "      <td>216</td>\n",
       "      <td>2005-06-02 00:17:25</td>\n",
       "      <td>2</td>\n",
       "      <td>2006-02-15 21:30:53</td>\n",
       "    </tr>\n",
       "    <tr>\n",
       "      <th>996</th>\n",
       "      <td>998</td>\n",
       "      <td>2005-05-31 00:16:57</td>\n",
       "      <td>3395</td>\n",
       "      <td>389</td>\n",
       "      <td>2005-06-01 22:41:57</td>\n",
       "      <td>1</td>\n",
       "      <td>2006-02-15 21:30:53</td>\n",
       "    </tr>\n",
       "    <tr>\n",
       "      <th>997</th>\n",
       "      <td>999</td>\n",
       "      <td>2005-05-31 00:25:10</td>\n",
       "      <td>4433</td>\n",
       "      <td>413</td>\n",
       "      <td>2005-06-03 06:05:10</td>\n",
       "      <td>2</td>\n",
       "      <td>2006-02-15 21:30:53</td>\n",
       "    </tr>\n",
       "    <tr>\n",
       "      <th>998</th>\n",
       "      <td>1000</td>\n",
       "      <td>2005-05-31 00:25:56</td>\n",
       "      <td>1774</td>\n",
       "      <td>332</td>\n",
       "      <td>2005-06-08 19:42:56</td>\n",
       "      <td>2</td>\n",
       "      <td>2006-02-15 21:30:53</td>\n",
       "    </tr>\n",
       "    <tr>\n",
       "      <th>999</th>\n",
       "      <td>1001</td>\n",
       "      <td>2005-05-31 00:46:31</td>\n",
       "      <td>1498</td>\n",
       "      <td>64</td>\n",
       "      <td>2005-06-06 06:14:31</td>\n",
       "      <td>2</td>\n",
       "      <td>2006-02-15 21:30:53</td>\n",
       "    </tr>\n",
       "  </tbody>\n",
       "</table>\n",
       "<p>1000 rows × 7 columns</p>\n",
       "</div>"
      ],
      "text/plain": [
       "     rental_id          rental_date  inventory_id  customer_id   \n",
       "0            1  2005-05-24 22:53:30           367          130  \\\n",
       "1            2  2005-05-24 22:54:33          1525          459   \n",
       "2            3  2005-05-24 23:03:39          1711          408   \n",
       "3            4  2005-05-24 23:04:41          2452          333   \n",
       "4            5  2005-05-24 23:05:21          2079          222   \n",
       "..         ...                  ...           ...          ...   \n",
       "995        997  2005-05-31 00:08:25          4243          216   \n",
       "996        998  2005-05-31 00:16:57          3395          389   \n",
       "997        999  2005-05-31 00:25:10          4433          413   \n",
       "998       1000  2005-05-31 00:25:56          1774          332   \n",
       "999       1001  2005-05-31 00:46:31          1498           64   \n",
       "\n",
       "             return_date  staff_id          last_update  \n",
       "0    2005-05-26 22:04:30         1  2006-02-15 21:30:53  \n",
       "1    2005-05-28 19:40:33         1  2006-02-15 21:30:53  \n",
       "2    2005-06-01 22:12:39         1  2006-02-15 21:30:53  \n",
       "3    2005-06-03 01:43:41         2  2006-02-15 21:30:53  \n",
       "4    2005-06-02 04:33:21         1  2006-02-15 21:30:53  \n",
       "..                   ...       ...                  ...  \n",
       "995  2005-06-02 00:17:25         2  2006-02-15 21:30:53  \n",
       "996  2005-06-01 22:41:57         1  2006-02-15 21:30:53  \n",
       "997  2005-06-03 06:05:10         2  2006-02-15 21:30:53  \n",
       "998  2005-06-08 19:42:56         2  2006-02-15 21:30:53  \n",
       "999  2005-06-06 06:14:31         2  2006-02-15 21:30:53  \n",
       "\n",
       "[1000 rows x 7 columns]"
      ]
     },
     "execution_count": 44,
     "metadata": {},
     "output_type": "execute_result"
    }
   ],
   "source": [
    "#parece que no solo le falta una quinta parte de sus titulos sino que tambien algunos de los iniciales.\n",
    "df_invent.groupby('film_id').agg({'inventory_id':'count'}).mean()\n",
    "medi_p=df_invent.groupby('film_id').agg({'inventory_id':'count'}).mean()\n",
    "#la media de peliculas por titulo es de 4.83\n",
    "#obsevando en la renta\n",
    "df_rent['inventory_id'].max()\n",
    "#mientras en renta hay un maximo de 4581 pelis que llego a tener en el inventario\n",
    "#teniendo en cuenta que el tenia una cantidad de 1000 titulos\n",
    "#y con un simple calculo, se ve que el producto por titulos que antes tenia es muy cercano a los que pudo rentar.\n",
    "medi_p*df_film['film_id'].count()\n",
    "#obtengo un valor bastante cercano a la pelicula rentada con mayor id \"4830\", esto sabiendo que las id del inventario son unicas hasta para un mismo producto\n",
    "#Pero como sabemos no existe 4/5 de pelicula, redondeo y el minimo quedaria asi\n",
    "int(medi_p)*df_film['film_id'].count()\n",
    "round(medi_p)*df_film['film_id'].count()\n",
    "#tengo valores entre 4000 y 5000 entre ambos se puede aproximar un poco para tener un valor mar certero\n",
    "# en el caso uno\"4000\" hay una brecha de 580.\n",
    "#en el caso dos \"5000\" hay otra brecha de 420.\n",
    "#en cualquier caso ahora mi renta me cuadra con la informacion que me han proporcionado.\n",
    "#solo quedaria saber que ha pasado con esos titulos que no me ha pasado.\n",
    "df_rent"
   ]
  },
  {
   "cell_type": "code",
   "execution_count": 45,
   "metadata": {},
   "outputs": [
    {
     "data": {
      "text/html": [
       "<div>\n",
       "<style scoped>\n",
       "    .dataframe tbody tr th:only-of-type {\n",
       "        vertical-align: middle;\n",
       "    }\n",
       "\n",
       "    .dataframe tbody tr th {\n",
       "        vertical-align: top;\n",
       "    }\n",
       "\n",
       "    .dataframe thead th {\n",
       "        text-align: right;\n",
       "    }\n",
       "</style>\n",
       "<table border=\"1\" class=\"dataframe\">\n",
       "  <thead>\n",
       "    <tr style=\"text-align: right;\">\n",
       "      <th></th>\n",
       "      <th>film_id</th>\n",
       "      <th>title</th>\n",
       "      <th>description</th>\n",
       "      <th>language_id</th>\n",
       "      <th>rental_duration</th>\n",
       "      <th>rental_rate</th>\n",
       "      <th>length</th>\n",
       "      <th>replacement_cost</th>\n",
       "      <th>rating</th>\n",
       "      <th>special_features</th>\n",
       "    </tr>\n",
       "  </thead>\n",
       "  <tbody>\n",
       "    <tr>\n",
       "      <th>0</th>\n",
       "      <td>1</td>\n",
       "      <td>ACADEMY DINOSAUR</td>\n",
       "      <td>A Epic Drama of a Feminist And a Mad Scientist...</td>\n",
       "      <td>1</td>\n",
       "      <td>6</td>\n",
       "      <td>0.99</td>\n",
       "      <td>86</td>\n",
       "      <td>20.99</td>\n",
       "      <td>PG</td>\n",
       "      <td>Deleted Scenes,Behind the Scenes</td>\n",
       "    </tr>\n",
       "    <tr>\n",
       "      <th>1</th>\n",
       "      <td>2</td>\n",
       "      <td>ACE GOLDFINGER</td>\n",
       "      <td>A Astounding Epistle of a Database Administrat...</td>\n",
       "      <td>1</td>\n",
       "      <td>3</td>\n",
       "      <td>4.99</td>\n",
       "      <td>48</td>\n",
       "      <td>12.99</td>\n",
       "      <td>G</td>\n",
       "      <td>Trailers,Deleted Scenes</td>\n",
       "    </tr>\n",
       "    <tr>\n",
       "      <th>2</th>\n",
       "      <td>3</td>\n",
       "      <td>ADAPTATION HOLES</td>\n",
       "      <td>A Astounding Reflection of a Lumberjack And a ...</td>\n",
       "      <td>1</td>\n",
       "      <td>7</td>\n",
       "      <td>2.99</td>\n",
       "      <td>50</td>\n",
       "      <td>18.99</td>\n",
       "      <td>NC-17</td>\n",
       "      <td>Trailers,Deleted Scenes</td>\n",
       "    </tr>\n",
       "    <tr>\n",
       "      <th>3</th>\n",
       "      <td>4</td>\n",
       "      <td>AFFAIR PREJUDICE</td>\n",
       "      <td>A Fanciful Documentary of a Frisbee And a Lumb...</td>\n",
       "      <td>1</td>\n",
       "      <td>5</td>\n",
       "      <td>2.99</td>\n",
       "      <td>117</td>\n",
       "      <td>26.99</td>\n",
       "      <td>G</td>\n",
       "      <td>Commentaries,Behind the Scenes</td>\n",
       "    </tr>\n",
       "    <tr>\n",
       "      <th>4</th>\n",
       "      <td>5</td>\n",
       "      <td>AFRICAN EGG</td>\n",
       "      <td>A Fast-Paced Documentary of a Pastry Chef And ...</td>\n",
       "      <td>1</td>\n",
       "      <td>6</td>\n",
       "      <td>2.99</td>\n",
       "      <td>130</td>\n",
       "      <td>22.99</td>\n",
       "      <td>G</td>\n",
       "      <td>Deleted Scenes</td>\n",
       "    </tr>\n",
       "    <tr>\n",
       "      <th>...</th>\n",
       "      <td>...</td>\n",
       "      <td>...</td>\n",
       "      <td>...</td>\n",
       "      <td>...</td>\n",
       "      <td>...</td>\n",
       "      <td>...</td>\n",
       "      <td>...</td>\n",
       "      <td>...</td>\n",
       "      <td>...</td>\n",
       "      <td>...</td>\n",
       "    </tr>\n",
       "    <tr>\n",
       "      <th>995</th>\n",
       "      <td>996</td>\n",
       "      <td>YOUNG LANGUAGE</td>\n",
       "      <td>A Unbelieveable Yarn of a Boat And a Database ...</td>\n",
       "      <td>1</td>\n",
       "      <td>6</td>\n",
       "      <td>0.99</td>\n",
       "      <td>183</td>\n",
       "      <td>9.99</td>\n",
       "      <td>G</td>\n",
       "      <td>Trailers,Behind the Scenes</td>\n",
       "    </tr>\n",
       "    <tr>\n",
       "      <th>996</th>\n",
       "      <td>997</td>\n",
       "      <td>YOUTH KICK</td>\n",
       "      <td>A Touching Drama of a Teacher And a Cat who mu...</td>\n",
       "      <td>1</td>\n",
       "      <td>4</td>\n",
       "      <td>0.99</td>\n",
       "      <td>179</td>\n",
       "      <td>14.99</td>\n",
       "      <td>NC-17</td>\n",
       "      <td>Trailers,Behind the Scenes</td>\n",
       "    </tr>\n",
       "    <tr>\n",
       "      <th>997</th>\n",
       "      <td>998</td>\n",
       "      <td>ZHIVAGO CORE</td>\n",
       "      <td>A Fateful Yarn of a Composer And a Man who mus...</td>\n",
       "      <td>1</td>\n",
       "      <td>6</td>\n",
       "      <td>0.99</td>\n",
       "      <td>105</td>\n",
       "      <td>10.99</td>\n",
       "      <td>NC-17</td>\n",
       "      <td>Deleted Scenes</td>\n",
       "    </tr>\n",
       "    <tr>\n",
       "      <th>998</th>\n",
       "      <td>999</td>\n",
       "      <td>ZOOLANDER FICTION</td>\n",
       "      <td>A Fateful Reflection of a Waitress And a Boat ...</td>\n",
       "      <td>1</td>\n",
       "      <td>5</td>\n",
       "      <td>2.99</td>\n",
       "      <td>101</td>\n",
       "      <td>28.99</td>\n",
       "      <td>R</td>\n",
       "      <td>Trailers,Deleted Scenes</td>\n",
       "    </tr>\n",
       "    <tr>\n",
       "      <th>999</th>\n",
       "      <td>1000</td>\n",
       "      <td>ZORRO ARK</td>\n",
       "      <td>A Intrepid Panorama of a Mad Scientist And a B...</td>\n",
       "      <td>1</td>\n",
       "      <td>3</td>\n",
       "      <td>4.99</td>\n",
       "      <td>50</td>\n",
       "      <td>18.99</td>\n",
       "      <td>NC-17</td>\n",
       "      <td>Trailers,Commentaries,Behind the Scenes</td>\n",
       "    </tr>\n",
       "  </tbody>\n",
       "</table>\n",
       "<p>1000 rows × 10 columns</p>\n",
       "</div>"
      ],
      "text/plain": [
       "     film_id              title   \n",
       "0          1   ACADEMY DINOSAUR  \\\n",
       "1          2     ACE GOLDFINGER   \n",
       "2          3   ADAPTATION HOLES   \n",
       "3          4   AFFAIR PREJUDICE   \n",
       "4          5        AFRICAN EGG   \n",
       "..       ...                ...   \n",
       "995      996     YOUNG LANGUAGE   \n",
       "996      997         YOUTH KICK   \n",
       "997      998       ZHIVAGO CORE   \n",
       "998      999  ZOOLANDER FICTION   \n",
       "999     1000          ZORRO ARK   \n",
       "\n",
       "                                           description  language_id   \n",
       "0    A Epic Drama of a Feminist And a Mad Scientist...            1  \\\n",
       "1    A Astounding Epistle of a Database Administrat...            1   \n",
       "2    A Astounding Reflection of a Lumberjack And a ...            1   \n",
       "3    A Fanciful Documentary of a Frisbee And a Lumb...            1   \n",
       "4    A Fast-Paced Documentary of a Pastry Chef And ...            1   \n",
       "..                                                 ...          ...   \n",
       "995  A Unbelieveable Yarn of a Boat And a Database ...            1   \n",
       "996  A Touching Drama of a Teacher And a Cat who mu...            1   \n",
       "997  A Fateful Yarn of a Composer And a Man who mus...            1   \n",
       "998  A Fateful Reflection of a Waitress And a Boat ...            1   \n",
       "999  A Intrepid Panorama of a Mad Scientist And a B...            1   \n",
       "\n",
       "     rental_duration  rental_rate  length  replacement_cost rating   \n",
       "0                  6         0.99      86             20.99     PG  \\\n",
       "1                  3         4.99      48             12.99      G   \n",
       "2                  7         2.99      50             18.99  NC-17   \n",
       "3                  5         2.99     117             26.99      G   \n",
       "4                  6         2.99     130             22.99      G   \n",
       "..               ...          ...     ...               ...    ...   \n",
       "995                6         0.99     183              9.99      G   \n",
       "996                4         0.99     179             14.99  NC-17   \n",
       "997                6         0.99     105             10.99  NC-17   \n",
       "998                5         2.99     101             28.99      R   \n",
       "999                3         4.99      50             18.99  NC-17   \n",
       "\n",
       "                            special_features  \n",
       "0           Deleted Scenes,Behind the Scenes  \n",
       "1                    Trailers,Deleted Scenes  \n",
       "2                    Trailers,Deleted Scenes  \n",
       "3             Commentaries,Behind the Scenes  \n",
       "4                             Deleted Scenes  \n",
       "..                                       ...  \n",
       "995               Trailers,Behind the Scenes  \n",
       "996               Trailers,Behind the Scenes  \n",
       "997                           Deleted Scenes  \n",
       "998                  Trailers,Deleted Scenes  \n",
       "999  Trailers,Commentaries,Behind the Scenes  \n",
       "\n",
       "[1000 rows x 10 columns]"
      ]
     },
     "execution_count": 45,
     "metadata": {},
     "output_type": "execute_result"
    }
   ],
   "source": [
    "#por otra parte el año de lansamiento de las pelis es del 2006 cuando estos productos ya estaban guardados y inventariado en el 2005\n",
    "#borro ese dato de mi archivo de film\n",
    "#sera algun tipo ded pirateria?\n",
    "df_film.drop(columns='release_year',inplace=True)\n",
    "df_film"
   ]
  },
  {
   "cell_type": "code",
   "execution_count": 46,
   "metadata": {},
   "outputs": [],
   "source": [
    "pelis_dis=df_film[['film_id','title','replacement_cost','rental_rate']][df_film.film_id.apply(lambda x : True if x in num else False)==True]\n",
    "pelis_NoDis=df_film[['film_id','title','replacement_cost','rental_rate']][df_film.film_id.apply(lambda x : True if x in num else False)==False]"
   ]
  },
  {
   "cell_type": "code",
   "execution_count": 47,
   "metadata": {},
   "outputs": [
    {
     "data": {
      "text/plain": [
       "(replacement_cost    20.463430\n",
       " rental_rate          3.125266\n",
       " dtype: float64,\n",
       " replacement_cost    19.858852\n",
       " rental_rate          2.942081\n",
       " dtype: float64)"
      ]
     },
     "execution_count": 47,
     "metadata": {},
     "output_type": "execute_result"
    }
   ],
   "source": [
    "#intento entender porque se ha quedado con esas peliculas \n",
    "mean1=pelis_dis[['replacement_cost','rental_rate']].mean()\n",
    "mean2=pelis_NoDis[['replacement_cost','rental_rate']].mean()\n",
    "mean1,mean2"
   ]
  },
  {
   "cell_type": "code",
   "execution_count": 48,
   "metadata": {},
   "outputs": [
    {
     "data": {
      "text/plain": [
       "(replacement_cost    5.75790\n",
       " rental_rate         1.61938\n",
       " dtype: float64,\n",
       " replacement_cost    6.122318\n",
       " rental_rate         1.652278\n",
       " dtype: float64)"
      ]
     },
     "execution_count": 48,
     "metadata": {},
     "output_type": "execute_result"
    }
   ],
   "source": [
    "#para no dar muchas vueltas usare el calcula de la desviacion estandar\n",
    "pelis_dis[['replacement_cost','rental_rate']].std(),pelis_NoDis[['replacement_cost','rental_rate']].std()"
   ]
  },
  {
   "cell_type": "code",
   "execution_count": 49,
   "metadata": {},
   "outputs": [],
   "source": [
    "#solo veo que ha cogido un pequeño estraccto el cual le da un beneficio minio en cuanto a la variedad de informacion.\n",
    "#ahora que ya he ordenado todos mi df. Paso a guardarlo en una base de datos\n",
    "#df_act,df_cat,df_film,df_invent,df_lang,df_HDD,df_rent"
   ]
  },
  {
   "cell_type": "code",
   "execution_count": 50,
   "metadata": {},
   "outputs": [],
   "source": [
    "conexion = conn.connect(host='127.0.0.1',                      #nombre del server\n",
    "                        user='root',                           #nombre del usuario\n",
    "                        passwd='Sebitas18Da')                  #contraseña del server\n",
    "cursor = conexion.cursor()"
   ]
  },
  {
   "cell_type": "code",
   "execution_count": 51,
   "metadata": {},
   "outputs": [],
   "source": [
    "cursor.execute('drop database if exists FilmShop;')\n",
    "cursor.execute('create database FilmShop;')"
   ]
  },
  {
   "cell_type": "code",
   "execution_count": 52,
   "metadata": {},
   "outputs": [
    {
     "name": "stdout",
     "output_type": "stream",
     "text": [
      "('filmshop',)\n",
      "('information_schema',)\n",
      "('mysql',)\n",
      "('performance_schema',)\n",
      "('sys',)\n"
     ]
    }
   ],
   "source": [
    "cursor.execute('show databases;')\n",
    "for e in cursor:\n",
    "    print(e)"
   ]
  },
  {
   "cell_type": "code",
   "execution_count": 53,
   "metadata": {},
   "outputs": [],
   "source": [
    "db=conn.connect(host='127.0.0.1',\n",
    "                user='root',\n",
    "                passwd='Sebitas18Da',\n",
    "                database='FilmShop')\n",
    "cursor=db.cursor()"
   ]
  },
  {
   "cell_type": "code",
   "execution_count": 54,
   "metadata": {},
   "outputs": [
    {
     "data": {
      "text/plain": [
       "Index(['actor_id', 'first_name', 'last_name'], dtype='object')"
      ]
     },
     "execution_count": 54,
     "metadata": {},
     "output_type": "execute_result"
    }
   ],
   "source": [
    "df_act.columns"
   ]
  },
  {
   "cell_type": "code",
   "execution_count": 55,
   "metadata": {},
   "outputs": [],
   "source": [
    "def insertor(df,table):\n",
    "    nombre_table2=table\n",
    "    nombre_columns2=','.join(df.columns)\n",
    "    for e in range(len(df)):\n",
    "        valores=tuple(df.iloc[e].values)\n",
    "        insert_query = f'insert into {nombre_table2} ({nombre_columns2}) values {valores}'\n",
    "        cursor.execute(insert_query)"
   ]
  },
  {
   "cell_type": "code",
   "execution_count": 56,
   "metadata": {},
   "outputs": [],
   "source": [
    "cursor.execute('drop table if exists act;')\n",
    "query='''\n",
    "create table act (\n",
    "actor_id int primary key not null,\n",
    "first_name varchar(40), \n",
    "last_name varchar(40))'''\n",
    "cursor.execute(query)"
   ]
  },
  {
   "cell_type": "code",
   "execution_count": 57,
   "metadata": {},
   "outputs": [],
   "source": [
    "insertor(df_act,'act')"
   ]
  },
  {
   "cell_type": "code",
   "execution_count": 58,
   "metadata": {},
   "outputs": [
    {
     "data": {
      "text/plain": [
       "Index(['category_id', 'name'], dtype='object')"
      ]
     },
     "execution_count": 58,
     "metadata": {},
     "output_type": "execute_result"
    }
   ],
   "source": [
    "df_cat.columns"
   ]
  },
  {
   "cell_type": "code",
   "execution_count": 59,
   "metadata": {},
   "outputs": [],
   "source": [
    "cursor.execute('drop table if exists cat')\n",
    "query='''\n",
    "create table cat(\n",
    "category_id int primary key not null,\n",
    "name varchar(40))'''\n",
    "cursor.execute(query)\n",
    "insertor(df_cat,'cat')"
   ]
  },
  {
   "cell_type": "code",
   "execution_count": 60,
   "metadata": {},
   "outputs": [
    {
     "data": {
      "text/plain": [
       "Index(['language_id', 'name'], dtype='object')"
      ]
     },
     "execution_count": 60,
     "metadata": {},
     "output_type": "execute_result"
    }
   ],
   "source": [
    "df_lang.columns"
   ]
  },
  {
   "cell_type": "code",
   "execution_count": 61,
   "metadata": {},
   "outputs": [],
   "source": [
    "cursor.execute('drop table if exists lang')\n",
    "query='''\n",
    "create table lang(\n",
    "language_id int primary key not null,\n",
    "name varchar(40))'''\n",
    "cursor.execute(query)\n",
    "insertor(df_lang,'lang')"
   ]
  },
  {
   "cell_type": "code",
   "execution_count": 62,
   "metadata": {},
   "outputs": [
    {
     "data": {
      "text/plain": [
       "Index(['film_id', 'title', 'description', 'language_id', 'rental_duration',\n",
       "       'rental_rate', 'length', 'replacement_cost', 'rating',\n",
       "       'special_features'],\n",
       "      dtype='object')"
      ]
     },
     "execution_count": 62,
     "metadata": {},
     "output_type": "execute_result"
    }
   ],
   "source": [
    "df_film.columns"
   ]
  },
  {
   "cell_type": "code",
   "execution_count": 63,
   "metadata": {},
   "outputs": [],
   "source": [
    "cursor.execute('drop table if exists film')\n",
    "query='''\n",
    "create table film(\n",
    "film_id int primary key not null, \n",
    "title varchar(40), \n",
    "description varchar(200), \n",
    "language_id int, \n",
    "rental_duration int,\n",
    "rental_rate float, \n",
    "length int, \n",
    "replacement_cost float, \n",
    "rating varchar(40),\n",
    "special_features varchar(100),\n",
    "foreign key (language_id) references lang(language_id))'''\n",
    "cursor.execute(query)\n",
    "insertor(df_film,'film')"
   ]
  },
  {
   "cell_type": "code",
   "execution_count": 64,
   "metadata": {},
   "outputs": [
    {
     "name": "stdout",
     "output_type": "stream",
     "text": [
      "(1, 'ACADEMY DINOSAUR', 'A Epic Drama of a Feminist And a Mad Scientist who must Battle a Teacher in The Canadian Rockies', 1, 6, 0.99, 86, 20.99, 'PG', 'Deleted Scenes,Behind the Scenes')\n",
      "(2, 'ACE GOLDFINGER', 'A Astounding Epistle of a Database Administrator And a Explorer who must Find a Car in Ancient China', 1, 3, 4.99, 48, 12.99, 'G', 'Trailers,Deleted Scenes')\n"
     ]
    }
   ],
   "source": [
    "cursor.execute('select * from film limit 2;')\n",
    "\n",
    "for x in cursor:\n",
    "    print(x)"
   ]
  },
  {
   "cell_type": "code",
   "execution_count": 65,
   "metadata": {},
   "outputs": [
    {
     "data": {
      "text/plain": [
       "Index(['inventory_id', 'film_id', 'store_id'], dtype='object')"
      ]
     },
     "execution_count": 65,
     "metadata": {},
     "output_type": "execute_result"
    }
   ],
   "source": [
    "df_invent.columns"
   ]
  },
  {
   "cell_type": "code",
   "execution_count": 104,
   "metadata": {},
   "outputs": [
    {
     "data": {
      "text/html": [
       "<div>\n",
       "<style scoped>\n",
       "    .dataframe tbody tr th:only-of-type {\n",
       "        vertical-align: middle;\n",
       "    }\n",
       "\n",
       "    .dataframe tbody tr th {\n",
       "        vertical-align: top;\n",
       "    }\n",
       "\n",
       "    .dataframe thead th {\n",
       "        text-align: right;\n",
       "    }\n",
       "</style>\n",
       "<table border=\"1\" class=\"dataframe\">\n",
       "  <thead>\n",
       "    <tr style=\"text-align: right;\">\n",
       "      <th></th>\n",
       "      <th>actor_id</th>\n",
       "      <th>film_id</th>\n",
       "      <th>category_id</th>\n",
       "    </tr>\n",
       "  </thead>\n",
       "  <tbody>\n",
       "    <tr>\n",
       "      <th>149</th>\n",
       "      <td>4</td>\n",
       "      <td>23</td>\n",
       "      <td>2</td>\n",
       "    </tr>\n",
       "    <tr>\n",
       "      <th>152</th>\n",
       "      <td>4</td>\n",
       "      <td>25</td>\n",
       "      <td>13</td>\n",
       "    </tr>\n",
       "    <tr>\n",
       "      <th>161</th>\n",
       "      <td>4</td>\n",
       "      <td>87</td>\n",
       "      <td>16</td>\n",
       "    </tr>\n",
       "    <tr>\n",
       "      <th>178</th>\n",
       "      <td>4</td>\n",
       "      <td>635</td>\n",
       "      <td>13</td>\n",
       "    </tr>\n",
       "    <tr>\n",
       "      <th>194</th>\n",
       "      <td>4</td>\n",
       "      <td>832</td>\n",
       "      <td>8</td>\n",
       "    </tr>\n",
       "    <tr>\n",
       "      <th>...</th>\n",
       "      <td>...</td>\n",
       "      <td>...</td>\n",
       "      <td>...</td>\n",
       "    </tr>\n",
       "    <tr>\n",
       "      <th>2059</th>\n",
       "      <td>38</td>\n",
       "      <td>793</td>\n",
       "      <td>1</td>\n",
       "    </tr>\n",
       "    <tr>\n",
       "      <th>2062</th>\n",
       "      <td>38</td>\n",
       "      <td>827</td>\n",
       "      <td>7</td>\n",
       "    </tr>\n",
       "    <tr>\n",
       "      <th>2065</th>\n",
       "      <td>38</td>\n",
       "      <td>839</td>\n",
       "      <td>14</td>\n",
       "    </tr>\n",
       "    <tr>\n",
       "      <th>2067</th>\n",
       "      <td>38</td>\n",
       "      <td>853</td>\n",
       "      <td>3</td>\n",
       "    </tr>\n",
       "    <tr>\n",
       "      <th>2076</th>\n",
       "      <td>39</td>\n",
       "      <td>203</td>\n",
       "      <td>14</td>\n",
       "    </tr>\n",
       "  </tbody>\n",
       "</table>\n",
       "<p>386 rows × 3 columns</p>\n",
       "</div>"
      ],
      "text/plain": [
       "      actor_id  film_id  category_id\n",
       "149          4       23            2\n",
       "152          4       25           13\n",
       "161          4       87           16\n",
       "178          4      635           13\n",
       "194          4      832            8\n",
       "...        ...      ...          ...\n",
       "2059        38      793            1\n",
       "2062        38      827            7\n",
       "2065        38      839           14\n",
       "2067        38      853            3\n",
       "2076        39      203           14\n",
       "\n",
       "[386 rows x 3 columns]"
      ]
     },
     "execution_count": 104,
     "metadata": {},
     "output_type": "execute_result"
    }
   ],
   "source": [
    "# me doy cuenta que con este dato puedo relacionar las peliculas con los actores, para mi tabla intermedia y las id esten en su correcta posicion\n",
    "id_act=ids['actor_id']\n",
    "df_act[df_act['actor_id'].apply(lambda x : x in list(id_act))==True] #de los 200 actores solo conozco en que peliculas han trabajado 38\n",
    "df_film[df_film['title'].apply(lambda x : x in list(ids['title']))==True]# de los 1000 titulos solo conozco 614 en los que actores han trabajado \n",
    "# en este puntp mi cliente deberia decidir que hacer con los demas nombres los cuales no tienen ninguna produccionn y aunque queden 400, al no tener una relacion clara, deberia ser desechado.\n",
    "#como desconozco si tiene los demas archivos, los mantengo para en un futuro rellenarlo como es debido, mientras hare que sea funcional con lo que tiene\n",
    "#voy ha crear una base de datos donde recoja toda esta informacion y me relacione con las peliculas que han hecho\n",
    "df_invent['film_id'][df_invent['film_id'].apply(lambda x : x not in list(ids_uni['film_id']))==True]\n",
    "connector=pd.DataFrame(df_act[['actor_id']])\n",
    "connector=connector.merge(ids[['film_id','actor_id']],on='actor_id',how='left')\n",
    "connector.dropna(subset=['film_id'], inplace=True)\n",
    "connector.film_id=connector.film_id.astype(int)\n",
    "connector=connector.merge(ids[['film_id','category_id']],on='film_id',how='left')\n",
    "connector.drop_duplicates(inplace=True)\n",
    "connector['category_id']=connector['category_id'].fillna(16).astype(int)\n",
    "connector[connector['film_id'].duplicated()==True]"
   ]
  },
  {
   "cell_type": "code",
   "execution_count": 99,
   "metadata": {},
   "outputs": [],
   "source": [
    "cursor.execute('drop table if exists connect')\n",
    "query='''\n",
    "create table connect(\n",
    "category_id int,\n",
    "actor_id int,\n",
    "film_id int,\n",
    "foreign key (category_id) references cat(category_id),\n",
    "foreign key (actor_id) references act(actor_id),\n",
    "foreign key (film_id) references film(film_id))'''\n",
    "cursor.execute(query)\n",
    "insertor(connector,'connect')"
   ]
  },
  {
   "cell_type": "code",
   "execution_count": 98,
   "metadata": {},
   "outputs": [],
   "source": [
    "cursor.execute('DROP TABLE IF EXISTS invent')"
   ]
  },
  {
   "cell_type": "code",
   "execution_count": 100,
   "metadata": {},
   "outputs": [
    {
     "ename": "IntegrityError",
     "evalue": "1452 (23000): Cannot add or update a child row: a foreign key constraint fails (`filmshop`.`invent`, CONSTRAINT `invent_ibfk_1` FOREIGN KEY (`film_id`) REFERENCES `connect` (`film_id`))",
     "output_type": "error",
     "traceback": [
      "\u001b[1;31m---------------------------------------------------------------------------\u001b[0m",
      "\u001b[1;31mMySQLInterfaceError\u001b[0m                       Traceback (most recent call last)",
      "File \u001b[1;32mc:\\Users\\sebas\\AppData\\Local\\Programs\\Python\\Python39\\lib\\site-packages\\mysql\\connector\\connection_cext.py:611\u001b[0m, in \u001b[0;36mCMySQLConnection.cmd_query\u001b[1;34m(self, query, raw, buffered, raw_as_string)\u001b[0m\n\u001b[0;32m    610\u001b[0m         query \u001b[39m=\u001b[39m query\u001b[39m.\u001b[39mencode(\u001b[39m\"\u001b[39m\u001b[39mutf-8\u001b[39m\u001b[39m\"\u001b[39m)\n\u001b[1;32m--> 611\u001b[0m     \u001b[39mself\u001b[39;49m\u001b[39m.\u001b[39;49m_cmysql\u001b[39m.\u001b[39;49mquery(\n\u001b[0;32m    612\u001b[0m         query,\n\u001b[0;32m    613\u001b[0m         raw\u001b[39m=\u001b[39;49mraw,\n\u001b[0;32m    614\u001b[0m         buffered\u001b[39m=\u001b[39;49mbuffered,\n\u001b[0;32m    615\u001b[0m         raw_as_string\u001b[39m=\u001b[39;49mraw_as_string,\n\u001b[0;32m    616\u001b[0m         query_attrs\u001b[39m=\u001b[39;49m\u001b[39mself\u001b[39;49m\u001b[39m.\u001b[39;49m_query_attrs,\n\u001b[0;32m    617\u001b[0m     )\n\u001b[0;32m    618\u001b[0m \u001b[39mexcept\u001b[39;00m MySQLInterfaceError \u001b[39mas\u001b[39;00m err:\n",
      "\u001b[1;31mMySQLInterfaceError\u001b[0m: Cannot add or update a child row: a foreign key constraint fails (`filmshop`.`invent`, CONSTRAINT `invent_ibfk_1` FOREIGN KEY (`film_id`) REFERENCES `connect` (`film_id`))",
      "\nThe above exception was the direct cause of the following exception:\n",
      "\u001b[1;31mIntegrityError\u001b[0m                            Traceback (most recent call last)",
      "Cell \u001b[1;32mIn[100], line 9\u001b[0m\n\u001b[0;32m      2\u001b[0m query \u001b[39m=\u001b[39m \u001b[39m'''\u001b[39m\n\u001b[0;32m      3\u001b[0m \u001b[39mCREATE TABLE invent (\u001b[39m\n\u001b[0;32m      4\u001b[0m \u001b[39minventory_id INT PRIMARY KEY NOT NULL,\u001b[39m\n\u001b[0;32m      5\u001b[0m \u001b[39mfilm_id INT,\u001b[39m\n\u001b[0;32m      6\u001b[0m \u001b[39mstore_id INT,\u001b[39m\n\u001b[0;32m      7\u001b[0m \u001b[39mFOREIGN KEY (film_id) REFERENCES connect (film_id))\u001b[39m\u001b[39m'''\u001b[39m\n\u001b[0;32m      8\u001b[0m cursor\u001b[39m.\u001b[39mexecute(query)\n\u001b[1;32m----> 9\u001b[0m insertor(df_invent,\u001b[39m'\u001b[39;49m\u001b[39minvent\u001b[39;49m\u001b[39m'\u001b[39;49m)\n",
      "Cell \u001b[1;32mIn[55], line 7\u001b[0m, in \u001b[0;36minsertor\u001b[1;34m(df, table)\u001b[0m\n\u001b[0;32m      5\u001b[0m valores\u001b[39m=\u001b[39m\u001b[39mtuple\u001b[39m(df\u001b[39m.\u001b[39miloc[e]\u001b[39m.\u001b[39mvalues)\n\u001b[0;32m      6\u001b[0m insert_query \u001b[39m=\u001b[39m \u001b[39mf\u001b[39m\u001b[39m'\u001b[39m\u001b[39minsert into \u001b[39m\u001b[39m{\u001b[39;00mnombre_table2\u001b[39m}\u001b[39;00m\u001b[39m (\u001b[39m\u001b[39m{\u001b[39;00mnombre_columns2\u001b[39m}\u001b[39;00m\u001b[39m) values \u001b[39m\u001b[39m{\u001b[39;00mvalores\u001b[39m}\u001b[39;00m\u001b[39m'\u001b[39m\n\u001b[1;32m----> 7\u001b[0m cursor\u001b[39m.\u001b[39;49mexecute(insert_query)\n",
      "File \u001b[1;32mc:\\Users\\sebas\\AppData\\Local\\Programs\\Python\\Python39\\lib\\site-packages\\mysql\\connector\\cursor_cext.py:330\u001b[0m, in \u001b[0;36mCMySQLCursor.execute\u001b[1;34m(self, operation, params, multi)\u001b[0m\n\u001b[0;32m    325\u001b[0m             \u001b[39mraise\u001b[39;00m ProgrammingError(\n\u001b[0;32m    326\u001b[0m                 \u001b[39m\"\u001b[39m\u001b[39mNot all parameters were used in the SQL statement\u001b[39m\u001b[39m\"\u001b[39m\n\u001b[0;32m    327\u001b[0m             )\n\u001b[0;32m    329\u001b[0m \u001b[39mtry\u001b[39;00m:\n\u001b[1;32m--> 330\u001b[0m     result \u001b[39m=\u001b[39m \u001b[39mself\u001b[39;49m\u001b[39m.\u001b[39;49m_cnx\u001b[39m.\u001b[39;49mcmd_query(\n\u001b[0;32m    331\u001b[0m         stmt,\n\u001b[0;32m    332\u001b[0m         raw\u001b[39m=\u001b[39;49m\u001b[39mself\u001b[39;49m\u001b[39m.\u001b[39;49m_raw,\n\u001b[0;32m    333\u001b[0m         buffered\u001b[39m=\u001b[39;49m\u001b[39mself\u001b[39;49m\u001b[39m.\u001b[39;49m_buffered,\n\u001b[0;32m    334\u001b[0m         raw_as_string\u001b[39m=\u001b[39;49m\u001b[39mself\u001b[39;49m\u001b[39m.\u001b[39;49m_raw_as_string,\n\u001b[0;32m    335\u001b[0m     )\n\u001b[0;32m    336\u001b[0m \u001b[39mexcept\u001b[39;00m MySQLInterfaceError \u001b[39mas\u001b[39;00m err:\n\u001b[0;32m    337\u001b[0m     \u001b[39mraise\u001b[39;00m get_mysql_exception(\n\u001b[0;32m    338\u001b[0m         msg\u001b[39m=\u001b[39merr\u001b[39m.\u001b[39mmsg, errno\u001b[39m=\u001b[39merr\u001b[39m.\u001b[39merrno, sqlstate\u001b[39m=\u001b[39merr\u001b[39m.\u001b[39msqlstate\n\u001b[0;32m    339\u001b[0m     ) \u001b[39mfrom\u001b[39;00m \u001b[39merr\u001b[39;00m\n",
      "File \u001b[1;32mc:\\Users\\sebas\\AppData\\Local\\Programs\\Python\\Python39\\lib\\site-packages\\mysql\\connector\\connection_cext.py:619\u001b[0m, in \u001b[0;36mCMySQLConnection.cmd_query\u001b[1;34m(self, query, raw, buffered, raw_as_string)\u001b[0m\n\u001b[0;32m    611\u001b[0m     \u001b[39mself\u001b[39m\u001b[39m.\u001b[39m_cmysql\u001b[39m.\u001b[39mquery(\n\u001b[0;32m    612\u001b[0m         query,\n\u001b[0;32m    613\u001b[0m         raw\u001b[39m=\u001b[39mraw,\n\u001b[1;32m   (...)\u001b[0m\n\u001b[0;32m    616\u001b[0m         query_attrs\u001b[39m=\u001b[39m\u001b[39mself\u001b[39m\u001b[39m.\u001b[39m_query_attrs,\n\u001b[0;32m    617\u001b[0m     )\n\u001b[0;32m    618\u001b[0m \u001b[39mexcept\u001b[39;00m MySQLInterfaceError \u001b[39mas\u001b[39;00m err:\n\u001b[1;32m--> 619\u001b[0m     \u001b[39mraise\u001b[39;00m get_mysql_exception(\n\u001b[0;32m    620\u001b[0m         err\u001b[39m.\u001b[39merrno, msg\u001b[39m=\u001b[39merr\u001b[39m.\u001b[39mmsg, sqlstate\u001b[39m=\u001b[39merr\u001b[39m.\u001b[39msqlstate\n\u001b[0;32m    621\u001b[0m     ) \u001b[39mfrom\u001b[39;00m \u001b[39merr\u001b[39;00m\n\u001b[0;32m    622\u001b[0m \u001b[39mexcept\u001b[39;00m \u001b[39mAttributeError\u001b[39;00m \u001b[39mas\u001b[39;00m err:\n\u001b[0;32m    623\u001b[0m     addr \u001b[39m=\u001b[39m (\n\u001b[0;32m    624\u001b[0m         \u001b[39mself\u001b[39m\u001b[39m.\u001b[39m_unix_socket \u001b[39mif\u001b[39;00m \u001b[39mself\u001b[39m\u001b[39m.\u001b[39m_unix_socket \u001b[39melse\u001b[39;00m \u001b[39mf\u001b[39m\u001b[39m\"\u001b[39m\u001b[39m{\u001b[39;00m\u001b[39mself\u001b[39m\u001b[39m.\u001b[39m_host\u001b[39m}\u001b[39;00m\u001b[39m:\u001b[39m\u001b[39m{\u001b[39;00m\u001b[39mself\u001b[39m\u001b[39m.\u001b[39m_port\u001b[39m}\u001b[39;00m\u001b[39m\"\u001b[39m\n\u001b[0;32m    625\u001b[0m     )\n",
      "\u001b[1;31mIntegrityError\u001b[0m: 1452 (23000): Cannot add or update a child row: a foreign key constraint fails (`filmshop`.`invent`, CONSTRAINT `invent_ibfk_1` FOREIGN KEY (`film_id`) REFERENCES `connect` (`film_id`))"
     ]
    }
   ],
   "source": [
    "cursor.execute('DROP TABLE IF EXISTS invent')\n",
    "query = '''\n",
    "CREATE TABLE invent (\n",
    "inventory_id INT PRIMARY KEY NOT NULL,\n",
    "film_id INT,\n",
    "store_id INT,\n",
    "FOREIGN KEY (film_id) REFERENCES connect (film_id))'''\n",
    "cursor.execute(query)\n",
    "insertor(df_invent,'invent')"
   ]
  }
 ],
 "metadata": {
  "kernelspec": {
   "display_name": "Python 3",
   "language": "python",
   "name": "python3"
  },
  "language_info": {
   "codemirror_mode": {
    "name": "ipython",
    "version": 3
   },
   "file_extension": ".py",
   "mimetype": "text/x-python",
   "name": "python",
   "nbconvert_exporter": "python",
   "pygments_lexer": "ipython3",
   "version": "3.9.2rc1"
  },
  "orig_nbformat": 4
 },
 "nbformat": 4,
 "nbformat_minor": 2
}
